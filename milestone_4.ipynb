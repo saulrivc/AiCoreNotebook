{
  "cells": [
    {
      "cell_type": "markdown",
      "metadata": {
        "id": "i_xLFYD8a_h3"
      },
      "source": [
        "# Movie Recommendation - Milestone 4\n"
      ]
    },
    {
      "cell_type": "markdown",
      "metadata": {
        "id": "UBq1hQUBbHQx"
      },
      "source": [
        "<details>\n",
        "  <summary>Click in any of these links to compare your solution with ours up to this point</summary>\n",
        "  <p>\n",
        "    <a href=\"https://colab.research.google.com/github/AI-Core/movie-recommendation-solutions/blob/main/solution_m1.ipynb\" target=\"_parent\">Solution for milestone 1</a>\n",
        "  </p>\n",
        "  <p>\n",
        "    <a href=\"https://colab.research.google.com/github/AI-Core/movie-recommendation-solutions/blob/main/solution_m2.ipynb\" target=\"_parent\">Solution for milestone 2</a>\n",
        "  </p>\n",
        "    <p>\n",
        "        <a href=\"https://colab.research.google.com/github/AI-Core/movie-recommendation-solutions/blob/main/solution_m3.ipynb\" target=\"_parent\">Solution for milestone 3</a>\n",
        "    </p>\n",
        "</details>"
      ]
    },
    {
      "cell_type": "code",
      "execution_count": 3,
      "metadata": {
        "id": "43aMkoF7bHQx"
      },
      "outputs": [],
      "source": [
        "#@title # Run the following cell to add the `movies` variable and the `get_unique_genres` and `get_movies_in_genre` functions will be available for you to use. { display-mode: \"form\" }\n",
        "#@markdown Don’t worry about what’s in this collapsed cell, you’re not expected to understand the code inside\n",
        "\n",
        "!pip install movie-rec-marking-aicore --upgrade --quiet\n",
        "!wget https://aicore-files.s3.amazonaws.com/Movie-Recommendation/movies.json --quiet\n",
        "from movie_rec_marking import test_milestone_4\n",
        "import json\n",
        "with open('movies.json', 'r') as f:\n",
        "    movies = json.load(f)\n",
        "\n",
        "def get_unique_genres():\n",
        "    genres = []\n",
        "    for movie in movies:\n",
        "        genres.append(movie[\"genre\"])\n",
        "    genres = set(genres)\n",
        "    return genres\n",
        "\n",
        "def get_movies_in_genre(genre):\n",
        "    movies_in_genre = []\n",
        "    for movie in movies:\n",
        "        if movie[\"genre\"] == genre:\n",
        "            movies_in_genre.append(movie)\n",
        "    return movies_in_genre"
      ]
    },
    {
      "cell_type": "markdown",
      "metadata": {
        "id": "MYQw48Lqa3Q4"
      },
      "source": [
        "# Task 1\n",
        "### Ask the user what genre they are interested in\n",
        "\n",
        "Before you ask a user for their input, print out all of the available options. Get this from your `get_unique_genre`s method defined earlier.\n",
        "\n",
        "Then, take a user input using the `input()` function and assign it to the variable genre_choice.\n",
        "\n",
        "Put all of this in a function called `get_user_genre_choice`.\n",
        "\n",
        "Open this notebook  to get started, and follow the instructions for this milestone.\n",
        "\n"
      ]
    },
    {
      "cell_type": "code",
      "execution_count": 6,
      "metadata": {
        "id": "1UpT9BAym0iW",
        "outputId": "165c23a9-55ad-4003-eccf-8b2b25d124e0",
        "colab": {
          "base_uri": "https://localhost:8080/"
        }
      },
      "outputs": [
        {
          "output_type": "stream",
          "name": "stdout",
          "text": [
            "Available genres:\n",
            "Biography\n",
            "Western\n",
            "Comedy\n",
            "Adventure\n",
            "Drama\n",
            "Mystery\n",
            "Action\n",
            "Animation\n",
            "Film-Noir\n",
            "Horror\n",
            "Crime\n",
            "What genre are you interested in? Crime\n",
            "You chose: Crime\n",
            "1: The Godfather\n",
            "2: The Godfather: Part II\n",
            "3: 12 Angry Men\n",
            "4: Pulp Fiction\n",
            "5: Seven\n",
            "6: The Silence of the Lambs\n",
            "7: City of God\n",
            "8: The Green Mile\n",
            "9: American History X\n",
            "10: The Departed\n",
            "11: The Usual Suspects\n",
            "12: Witness for the Prosecution\n",
            "13: Joker\n",
            "14: Once Upon a Time in America\n",
            "15: High and Low\n",
            "16: Reservoir Dogs\n",
            "17: M\n",
            "18: A Clockwork Orange\n",
            "19: Double Indemnity\n",
            "20: Scarface\n",
            "21: To Kill a Mockingbird\n",
            "22: Taxi Driver\n",
            "23: L.A. Confidential\n",
            "24: Casino\n",
            "25: Rashomon\n",
            "26: No Country for Old Men\n",
            "27: Dial M for Murder\n",
            "28: Fargo\n",
            "29: Prisoners\n",
            "30: On the Waterfront\n",
            "31: Memories of Murder\n",
            "32: Jai Bhim\n",
            "33: La Haine\n",
            "34: Cool Hand Luke\n",
            "35: The 400 Blows\n"
          ]
        }
      ],
      "source": [
        "## Write your code here\n",
        "\n",
        "class MovieRecommender:\n",
        "\n",
        "    def __init__(self, movies):\n",
        "        self.movies = movies\n",
        "\n",
        "    def get_unique_genres(self):\n",
        "        genres = []\n",
        "        for movie in self.movies:\n",
        "            genres.append(movie[\"genre\"])\n",
        "        genres = set(genres)\n",
        "        return genres\n",
        "\n",
        "    def get_user_genre_choice(self):\n",
        "        genres = self.get_unique_genres()\n",
        "        print(\"Available genres:\")\n",
        "        for genre in genres:\n",
        "            print(genre)\n",
        "\n",
        "        while True:\n",
        "            genre_choice = input(\"What genre are you interested in? \")\n",
        "            if genre_choice in genres:\n",
        "                return genre_choice\n",
        "            else:\n",
        "                print(\"Invalid genre choice. Please choose from the available genres.\")\n",
        "\n",
        "    def display_movies_in_genre(self, genre):\n",
        "        movies_in_genre = []\n",
        "        for movie in self.movies:\n",
        "            if movie[\"genre\"] == genre:\n",
        "                movies_in_genre.append(movie)\n",
        "\n",
        "        for index, movie in enumerate(movies_in_genre, 1):\n",
        "            print(f\"{index}: {movie['title']}\")\n",
        "\n",
        "def get_user_genre_choice():\n",
        "  recommender = MovieRecommender(movies)\n",
        "  return recommender.get_user_genre_choice()\n",
        "\n",
        "\n",
        "recommender = MovieRecommender(movies)\n",
        "chosen_genre = recommender.get_user_genre_choice()\n",
        "print(\"You chose:\", chosen_genre)\n",
        "\n",
        "recommender.display_movies_in_genre(chosen_genre)"
      ]
    },
    {
      "cell_type": "code",
      "execution_count": 7,
      "metadata": {
        "id": "g7nujGSRbHQy",
        "outputId": "b6491eb4-1862-407e-fc63-0119ca152ebe",
        "colab": {
          "base_uri": "https://localhost:8080/"
        }
      },
      "outputs": [
        {
          "output_type": "stream",
          "name": "stdout",
          "text": [
            "Great! The \"get_user_genre_choice\" function prints the correct genre\n",
            "You can continue to the next task\n"
          ]
        }
      ],
      "source": [
        "#@title Run this cell to check your solution { display-mode: \"form\", run: \"auto\" }\n",
        "\n",
        "assert 'get_user_genre_choice' in globals(), \"You need to define a function called get_user_genre_choice\"\n",
        "task_1 = test_milestone_4.check_get_user_genre_choice(get_user_genre_choice)"
      ]
    },
    {
      "cell_type": "markdown",
      "metadata": {
        "id": "qKRyTaYXbHQy"
      },
      "source": [
        "# Task 2\n",
        "\n",
        "### Show the movies in the selected genre\n",
        "\n",
        "Write some code to show the movies in a selected genre (you don't need to define this as a function yet):\n",
        "\n",
        "Use your `get_movies_in_genre` function to get a list of movies in the genre selected.\n",
        "\n",
        "\n",
        "Print each movie within the selected genre on a new line. At the start of the line, print the integer index of the movie.\n",
        "\n",
        "\n",
        "Make sure to:\n",
        "\n",
        "- Use the built-in `enumerate` function\n",
        "- Use an f-string to format the printed text\n",
        "\n",
        "To avoid confusing users, make the indexing start from 1 rather than zero. For example, one line should look something like: `\"3: The Dark Knight\"`."
      ]
    },
    {
      "cell_type": "code",
      "execution_count": 24,
      "metadata": {
        "id": "73pTh7cAbHQz",
        "outputId": "dcfc57af-3764-47fb-928e-483743347ee6",
        "colab": {
          "base_uri": "https://localhost:8080/"
        }
      },
      "outputs": [
        {
          "output_type": "stream",
          "name": "stdout",
          "text": [
            "Available genres:\n",
            "Biography\n",
            "Western\n",
            "Comedy\n",
            "Adventure\n",
            "Drama\n",
            "Mystery\n",
            "Action\n",
            "Animation\n",
            "Film-Noir\n",
            "Horror\n",
            "Crime\n",
            "What genre are you interested in? Crime\n",
            "1: The Godfather\n",
            "2: The Godfather: Part II\n",
            "3: 12 Angry Men\n",
            "4: Pulp Fiction\n",
            "5: Seven\n",
            "6: The Silence of the Lambs\n",
            "7: City of God\n",
            "8: The Green Mile\n",
            "9: American History X\n",
            "10: The Departed\n",
            "11: The Usual Suspects\n",
            "12: Witness for the Prosecution\n",
            "13: Joker\n",
            "14: Once Upon a Time in America\n",
            "15: High and Low\n",
            "16: Reservoir Dogs\n",
            "17: M\n",
            "18: A Clockwork Orange\n",
            "19: Double Indemnity\n",
            "20: Scarface\n",
            "21: To Kill a Mockingbird\n",
            "22: Taxi Driver\n",
            "23: L.A. Confidential\n",
            "24: Casino\n",
            "25: Rashomon\n",
            "26: No Country for Old Men\n",
            "27: Dial M for Murder\n",
            "28: Fargo\n",
            "29: Prisoners\n",
            "30: On the Waterfront\n",
            "31: Memories of Murder\n",
            "32: Jai Bhim\n",
            "33: La Haine\n",
            "34: Cool Hand Luke\n",
            "35: The 400 Blows\n"
          ]
        }
      ],
      "source": [
        "## Write your code here\n",
        "#Getting the user's genre choice\n",
        "\n",
        "recommender = MovieRecommender(movies)\n",
        "chosen_genre = recommender.get_user_genre_choice()\n",
        "\n",
        "#Using the chosen genre to get the movies in genre\n",
        "movies_in_genre = get_movies_in_genre(chosen_genre)\n",
        "\n",
        "#Display the movies in the chosen one\n",
        "for index, movie in enumerate(movies_in_genre, 1):\n",
        "    print(f\"{index}: {movie['title']}\")\n"
      ]
    },
    {
      "cell_type": "code",
      "execution_count": 25,
      "metadata": {
        "id": "aMFomTkMbHQz",
        "outputId": "35a8d7d0-fcd5-4e42-a3db-2ad29ab3ecd6",
        "colab": {
          "base_uri": "https://localhost:8080/"
        }
      },
      "outputs": [
        {
          "output_type": "stream",
          "name": "stdout",
          "text": [
            "Great! The \"get_movies_in_genre\" function returns the correct movies\n",
            "You can continue to the next task\n"
          ]
        }
      ],
      "source": [
        "#@title Enter your solution here { display-mode: \"form\", run: \"auto\" }\n",
        "#@markdown For Action, which is the movie corresponding to index 12?\n",
        "first_movie = \"Gladiator\" #@param [\"The Dark Knight\", \"Leon\", \"Harakiri\", \"Gladiator\", \"Pirates of the Caribbean: The Curse of the Black Pearl\"] {allow-input: true}\n",
        "#@markdown For Drama, which is the movie corresponding to index 7?\n",
        "second_movie = \"Parasite\" #@param [\"The Help\", \"The Shawshank Redemption\", \"The Prestige\", \"Parasite\", \"Saving Private Ryan\"] {allow-input: true}\n",
        "\n",
        "#@markdown For Crime, which is the movie corresponding to index 26?\n",
        "third_movie = \"No Country for Old Men\" #@param [\"Rashomon\", \"Reservoir Dogs\", \"The Godfather\", \"No Country for Old Men\", \"Dial M for Murder\"] {allow-input: true}\n",
        "task_2 = test_milestone_4.check_get_movies_in_genre(first_movie, second_movie, third_movie, task_1)"
      ]
    },
    {
      "cell_type": "markdown",
      "metadata": {
        "id": "mCXZolIGbHQz"
      },
      "source": [
        "# Task 3\n",
        "\n",
        "### Select and display the details of a movie\n",
        "\n",
        "Define a new function called `get_movie_by_index`. It should first print out all the movies in the genre selected.\n",
        "\n",
        "Then, it should ask the user to select a movie by entering the index of the movie. Assign this to a variable named `selected_movie_index`.\n",
        "\n",
        "\n",
        "HINT: Be careful of what data type is returned from the `input()` function.\n",
        "\n",
        "Print the key-value pairs of the selected movie's dictionary each on a new line.\n",
        "\n",
        "On each line, print the key and the value, separated by a comma.\n",
        "\n",
        "\n",
        "Make sure to use the `.items()` method of the dictionary.\n",
        "\n",
        "\n",
        "Your program should end after this."
      ]
    },
    {
      "cell_type": "code",
      "execution_count": 40,
      "metadata": {
        "id": "MnnNnbXkbHQz"
      },
      "outputs": [],
      "source": [
        "## Write your code here\n",
        "\n",
        "def get_movie_by_index():\n",
        "  \"\"\"\n",
        "  Displays movies in the selected genre, prompts the user to choose one by index,\n",
        "  and then prints the movie's details.\n",
        "  \"\"\"\n",
        "  # Get unique genres\n",
        "  unique_genres = get_unique_genres()  # Calling get_unique_genres\n",
        "\n",
        "  # Print available genres\n",
        "  print(\"Available genres:\")\n",
        "  for genre in unique_genres:\n",
        "    print(genre)\n",
        "\n",
        "  # Get user's genre choice\n",
        "  while True:\n",
        "    chosen_genre = input(\"What genre are you interested in? \")\n",
        "    if chosen_genre in unique_genres:\n",
        "      break\n",
        "    else:\n",
        "      print(\"Invalid genre choice. Please choose from the available genres.\")\n",
        "\n",
        "  # Get movies in the chosen genre\n",
        "  movies_in_genre = get_movies_in_genre(chosen_genre)  # Calling get_movies_in_genre\n",
        "\n",
        "  # Display movies with their indices\n",
        "  for index, movie in enumerate(movies_in_genre, 1):\n",
        "    print(f\"{index}: {movie['title']}\")\n",
        "\n",
        "  # Get user's movie choice\n",
        "  while True:\n",
        "    try:\n",
        "      selected_movie_index = int(input(\"Enter the index of the movie: \")) - 1  # Adjust for 0-based indexing\n",
        "      if 0 <= selected_movie_index < len(movies_in_genre):\n",
        "        break\n",
        "      else:\n",
        "        print(\"Invalid index. Please enter a valid index.\")\n",
        "    except ValueError:\n",
        "      print(\"Invalid input. Please enter a number.\")\n",
        "\n",
        "  # Print movie details\n",
        "  selected_movie = movies_in_genre[selected_movie_index]\n",
        "  for key, value in selected_movie.items():\n",
        "    print(f\"{key}, {value}\")"
      ]
    },
    {
      "cell_type": "code",
      "execution_count": 42,
      "metadata": {
        "id": "VdC_XE2bbHQz",
        "outputId": "35cb5dab-ee59-4e42-f251-4e5f1e3a3d1f",
        "colab": {
          "base_uri": "https://localhost:8080/"
        }
      },
      "outputs": [
        {
          "output_type": "stream",
          "name": "stdout",
          "text": [
            "Great! The \"get_movie_by_index\" function is defined correctly\n",
            "You have completed the fourth milestone of the project! Congratulations!\n"
          ]
        }
      ],
      "source": [
        "#@title Run this cell to check your solution { display-mode: \"form\", run: \"auto\" }\n",
        "\n",
        "assert 'get_movie_by_index' in globals(), \"You need to define a function called get_movie_by_index\"\n",
        "task_3 = test_milestone_4.check_get_movie_by_index(get_movie_by_index, task_2)"
      ]
    }
  ],
  "metadata": {
    "colab": {
      "provenance": []
    },
    "kernelspec": {
      "display_name": "Python 3.9.5 ('base')",
      "language": "python",
      "name": "python3"
    },
    "language_info": {
      "codemirror_mode": {
        "name": "ipython",
        "version": 3
      },
      "file_extension": ".py",
      "mimetype": "text/x-python",
      "name": "python",
      "nbconvert_exporter": "python",
      "pygments_lexer": "ipython3",
      "version": "3.9.5 (default, Jun  4 2021, 12:28:51) \n[GCC 7.5.0]"
    },
    "orig_nbformat": 4,
    "vscode": {
      "interpreter": {
        "hash": "ce99af5845ff7f417c6fe57e3883abe41597db90e3f493c4f9da5159bbc46102"
      }
    }
  },
  "nbformat": 4,
  "nbformat_minor": 0
}