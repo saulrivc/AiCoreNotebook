{
  "cells": [
    {
      "cell_type": "markdown",
      "metadata": {
        "id": "JACKYUUJ-Web"
      },
      "source": [
        "# Function Timing Decorator"
      ]
    },
    {
      "cell_type": "markdown",
      "metadata": {
        "id": "a1myRS0o-Wef"
      },
      "source": [
        "### 1. Creating a Start-End Decorator\n",
        "Define a simple function called `inside` that prints \"Inside our function!\" and does nothing else."
      ]
    },
    {
      "cell_type": "code",
      "execution_count": 1,
      "metadata": {
        "id": "kh_nPeD9-Wef"
      },
      "outputs": [],
      "source": [
        "# TODO - Define a function to print \"Inside our function!\"\n",
        "def inside():\n",
        "    print(\"Inside our function!\")"
      ]
    },
    {
      "cell_type": "markdown",
      "metadata": {
        "id": "bzzhWrXH-Weh"
      },
      "source": [
        "Create a decorator that prints \"Start\" and \"End\" at the start and end of a function call."
      ]
    },
    {
      "cell_type": "code",
      "execution_count": 2,
      "metadata": {
        "id": "1r41oK3k-Weh"
      },
      "outputs": [],
      "source": [
        "# TODO - Create a start-end decorator\n",
        "def start_end(func):\n",
        "    def wrapper():\n",
        "        print(\"Start\")\n",
        "        func()\n",
        "        print(\"End\")\n",
        "    return wrapper\n"
      ]
    },
    {
      "cell_type": "markdown",
      "metadata": {
        "id": "1SN-ZO-J-Weh"
      },
      "source": [
        "Call the decorator function, passing the `inside` function as an argument. Save the output to a variable.\n",
        "To check your code is correct, make a function call using this variable. The resulting output should look like the below:\n",
        "\n",
        "```python\n",
        "Start\n",
        "Inside our function!\n",
        "End\n",
        "```"
      ]
    },
    {
      "cell_type": "code",
      "execution_count": 3,
      "metadata": {
        "id": "kOumehtx-Wei",
        "outputId": "254bc750-c9be-4e7c-cca4-b76a34208bba",
        "colab": {
          "base_uri": "https://localhost:8080/"
        }
      },
      "outputs": [
        {
          "output_type": "stream",
          "name": "stdout",
          "text": [
            "Start\n",
            "Inside our function!\n",
            "End\n"
          ]
        }
      ],
      "source": [
        "# TODO - put your decorator and custom function together, then call the output\n",
        "decorated_inside = start_end(inside)\n",
        "decorated_inside()\n"
      ]
    },
    {
      "cell_type": "markdown",
      "metadata": {
        "id": "q_b7-4m2-Wei"
      },
      "source": [
        "### 2. Timer Decorator"
      ]
    },
    {
      "cell_type": "markdown",
      "metadata": {
        "id": "jbA8p3hf-Wei"
      },
      "source": [
        "Create a new decorator to time how long a function takes to run, and print the duration. Hint: you will need to import and use the `time` module."
      ]
    },
    {
      "cell_type": "code",
      "execution_count": 4,
      "metadata": {
        "id": "ZKjbnrtf-Wej"
      },
      "outputs": [],
      "source": [
        "\n",
        "# TODO - Create a timer decorator function\n",
        "import time\n",
        "\n",
        "def timer(func):\n",
        "    def wrapper():\n",
        "        start_time = time.time()\n",
        "        func()\n",
        "        end_time = time.time()\n",
        "        print(f\"Duration: {end_time - start_time} seconds\")\n",
        "    return wrapper\n"
      ]
    },
    {
      "cell_type": "markdown",
      "metadata": {
        "id": "ojt-NW9G-Wej"
      },
      "source": [
        "Call this timer decorator on the `inside` function, saving the output to a new function, then call that function."
      ]
    },
    {
      "cell_type": "code",
      "execution_count": 5,
      "metadata": {
        "id": "s0QakYS9-Wej",
        "outputId": "4f7e60e4-8cbb-4ac1-8bec-2369c0530060",
        "colab": {
          "base_uri": "https://localhost:8080/"
        }
      },
      "outputs": [
        {
          "output_type": "stream",
          "name": "stdout",
          "text": [
            "Inside our function!\n",
            "Duration: 0.0008301734924316406 seconds\n"
          ]
        }
      ],
      "source": [
        "# TODO - Find out the duration of the `inside` function\n",
        "decorated_inside = timer(inside)\n",
        "decorated_inside()\n"
      ]
    }
  ],
  "metadata": {
    "kernelspec": {
      "display_name": "base",
      "language": "python",
      "name": "python3"
    },
    "language_info": {
      "codemirror_mode": {
        "name": "ipython",
        "version": 3
      },
      "file_extension": ".py",
      "mimetype": "text/x-python",
      "name": "python",
      "nbconvert_exporter": "python",
      "pygments_lexer": "ipython3",
      "version": "3.9.13"
    },
    "colab": {
      "provenance": []
    }
  },
  "nbformat": 4,
  "nbformat_minor": 0
}