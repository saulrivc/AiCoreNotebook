{
  "cells": [
    {
      "cell_type": "markdown",
      "metadata": {
        "id": "Nz9S4NE32j2l"
      },
      "source": [
        "# Create a Comment"
      ]
    },
    {
      "cell_type": "markdown",
      "metadata": {
        "id": "lhE-t-A82j2m"
      },
      "source": [
        "#### In the cell below, create a comment that says \"This is a comment\".\n",
        "\n",
        "A comment is a line of text that is ignored by the Python interpreter.\n",
        "\n",
        "Comments are used to explain what the code is doing, and to make the code easier to read.\n",
        "\n",
        "Comments are created by using the `#` symbol."
      ]
    },
    {
      "cell_type": "code",
      "execution_count": 1,
      "metadata": {
        "id": "6IwHh00t2j2n"
      },
      "outputs": [],
      "source": [
        "# This is a comment"
      ]
    }
  ],
  "metadata": {
    "kernelspec": {
      "display_name": "content-projects_new",
      "language": "python",
      "name": "python3"
    },
    "language_info": {
      "name": "python",
      "version": "3.10.8 (main, Nov 24 2022, 14:13:03) [GCC 11.2.0]"
    },
    "vscode": {
      "interpreter": {
        "hash": "4b961f8166aad6ccb4cf65d0f9c742ef9c6c23ffe83ad932438cd83ed96aebaf"
      }
    },
    "colab": {
      "provenance": []
    }
  },
  "nbformat": 4,
  "nbformat_minor": 0
}