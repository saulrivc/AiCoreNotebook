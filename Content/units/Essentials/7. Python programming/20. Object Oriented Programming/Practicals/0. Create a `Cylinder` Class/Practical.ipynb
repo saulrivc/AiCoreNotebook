{
  "cells": [
    {
      "cell_type": "markdown",
      "id": "0bd138e3",
      "metadata": {
        "id": "0bd138e3"
      },
      "source": [
        "# Create a `Cylinder` Class"
      ]
    },
    {
      "cell_type": "markdown",
      "id": "b7bd6935",
      "metadata": {
        "id": "b7bd6935"
      },
      "source": [
        "#### 1. Define a `Cylinder` class.\n",
        "\n",
        "The constructor (`__init__`) should take two arguments:\n",
        "- `height`\n",
        "- `radius`, which has a default value of 1\n",
        "\n",
        "Create two attributes:\n",
        "- `height`\n",
        "- `radius`\n",
        "\n",
        "whose values are set to the arguments passed to the constructor."
      ]
    },
    {
      "cell_type": "code",
      "execution_count": 1,
      "id": "c0ea8fe8",
      "metadata": {
        "id": "c0ea8fe8"
      },
      "outputs": [],
      "source": [
        "def Cylinder(height,radius=1):\n",
        "  return height,radius"
      ]
    },
    {
      "cell_type": "markdown",
      "id": "dc156393",
      "metadata": {
        "id": "dc156393"
      },
      "source": [
        "#### 2. Then, create a variable called `my_cylinder` that is an instance of the `Cylinder` class with a height of 10 and a radius of 5.\n",
        "\n",
        "You can check the attributes of `my_cylinder` by running:\n",
        "\n",
        "```python\n",
        "print(my_cylinder.height)\n",
        "print(my_cylinder.radius)\n",
        "```\n"
      ]
    },
    {
      "cell_type": "code",
      "execution_count": 4,
      "id": "213e8f42",
      "metadata": {
        "id": "213e8f42",
        "outputId": "8abee7fe-e78b-42ea-9fbf-79cf010a0def",
        "colab": {
          "base_uri": "https://localhost:8080/"
        }
      },
      "outputs": [
        {
          "output_type": "stream",
          "name": "stdout",
          "text": [
            "10\n",
            "5\n"
          ]
        }
      ],
      "source": [
        "# TODO - Create a cylinder object with height = 10 and radius = 5\n",
        "\n",
        "def Cylinder(height,radius=1):\n",
        "  return height,radius\n",
        "\n",
        "# Create a cylinder object with height = 10 and radius = 5\n",
        "my_cylinder = Cylinder(height=10, radius=5)\n",
        "\n",
        "# Access the height and radius using index\n",
        "print(my_cylinder[0]) # Access height at index 0\n",
        "print(my_cylinder[1]) # Access radius at index 1\n"
      ]
    },
    {
      "cell_type": "markdown",
      "id": "8ba330f4",
      "metadata": {
        "id": "8ba330f4"
      },
      "source": [
        "\n",
        "#### 3. Add two more attributes to the `Cylinder` class:\n",
        "- `surface_area`, initialised as `None`\n",
        "- `volume`, initialised as `None`"
      ]
    },
    {
      "cell_type": "code",
      "execution_count": 5,
      "id": "09bae3b4",
      "metadata": {
        "id": "09bae3b4"
      },
      "outputs": [],
      "source": [
        "class Cylinder:\n",
        "\n",
        "    def __init__(self, height, radius):\n",
        "        self.height = height\n",
        "        self.radius = radius\n",
        "        # TODO - Add a surface area attribute\n",
        "        # TODO - Add a volume attribute\n",
        "        self.surface_area = None\n",
        "        self.volume = None\n"
      ]
    },
    {
      "cell_type": "markdown",
      "id": "ebc8284a",
      "metadata": {
        "id": "ebc8284a"
      },
      "source": [
        "#### 4. Create another instance of the `Cylinder` class called `my_cylinder2` with a height of 20 and a radius of 10.\n",
        "\n",
        "Print the attributes of `my_cylinder2` to check that they are correct."
      ]
    },
    {
      "cell_type": "code",
      "execution_count": 6,
      "id": "da716350",
      "metadata": {
        "id": "da716350",
        "outputId": "97f7805f-4578-4655-f499-b20a949da4cd",
        "colab": {
          "base_uri": "https://localhost:8080/"
        }
      },
      "outputs": [
        {
          "output_type": "stream",
          "name": "stdout",
          "text": [
            "20\n",
            "10\n"
          ]
        }
      ],
      "source": [
        "# TODO - Create a cylinder object with height = 20 and radius = 10\n",
        "class Cylinder:\n",
        "    def __init__(self, height, radius):\n",
        "        self.height = height\n",
        "        self.radius = radius\n",
        "        self.surface_area = None\n",
        "        self.volume = None\n",
        "# TODO - Print the height of the cylinder\n",
        "# TODO - Print the radius of the cylinder\n",
        "\n",
        "my_cylinder2 = Cylinder(height=20, radius=10)\n",
        "print(my_cylinder2.height)\n",
        "print(my_cylinder2.radius)"
      ]
    },
    {
      "cell_type": "markdown",
      "id": "2b274aab",
      "metadata": {
        "id": "2b274aab"
      },
      "source": [
        "#### 5. Add two methods to the `Cylinder` class:\n",
        "\n",
        "- `get_surface_area`: This method updates the attribute `surface_area`, and it returns the value rounded to two decimal places.\n",
        "- `get_volume`: This method updates the attribute `volume`, and it returns the value rounded to two decimal places.\n",
        "\n",
        "Use Google to find the formulae for surface area and volume of a cylinder. Use the formulae to create method definitions for these."
      ]
    },
    {
      "cell_type": "code",
      "execution_count": 9,
      "id": "7a2badf9",
      "metadata": {
        "id": "7a2badf9",
        "outputId": "d18538cf-96ec-4a83-e540-69fe8270eadd",
        "colab": {
          "base_uri": "https://localhost:8080/"
        }
      },
      "outputs": [
        {
          "output_type": "stream",
          "name": "stdout",
          "text": [
            "94.24777960769379\n",
            "94.24777960769379\n",
            "94.24777960769379\n"
          ]
        }
      ],
      "source": [
        "from math import pi\n",
        "\n",
        "class Cylinder:\n",
        "    def __init__(self, height, radius):\n",
        "        self.height = height\n",
        "        self.radius = radius\n",
        "        self.surface_area = None # Initialize surface_area here\n",
        "        self.volume = None     # Initialize volume here\n",
        "\n",
        "    # Define the surface area method.\n",
        "    def get_surface_area(self):\n",
        "        \"\"\"Calculates and returns the surface area of the cylinder.\"\"\"\n",
        "        self.surface_area = 2 * pi * self.radius * (self.radius + self.height)\n",
        "        return self.surface_area\n",
        "\n",
        "    # Define the volume method.\n",
        "    def get_volume(self):\n",
        "        \"\"\"Calculates and returns the volume of the cylinder.\"\"\"\n",
        "        self.volume = pi * self.radius ** 2 * self.height\n",
        "        return self.volume\n",
        "\n",
        "my_cylinder = Cylinder(height = 2, radius = 3)  # Create a Cylinder instance\n",
        "print(my_cylinder.get_surface_area())\n",
        "\n",
        "my_cyliner=Cylinder(height = 2,radius = 3)\n",
        "print(my_cyliner.get_surface_area())\n",
        "my_cyliner=Cylinder(height = 2,radius = 3)\n",
        "print(my_cyliner.get_surface_area())\n"
      ]
    },
    {
      "cell_type": "markdown",
      "id": "2ad73a8b",
      "metadata": {
        "id": "2ad73a8b"
      },
      "source": [
        "#### 6. Change the way `surface_area` and `volume` are initialised.\n",
        "\n",
        "In the `__init__` method, instead of initialising `surface_area` and `volume` to `None`, initialise them to the value returned by `get_surface_area` and `get_volume` respectively."
      ]
    },
    {
      "cell_type": "code",
      "execution_count": 10,
      "id": "e8b67ae8",
      "metadata": {
        "id": "e8b67ae8"
      },
      "outputs": [],
      "source": [
        "from math import pi\n",
        "\n",
        "class Cylinder:\n",
        "    def __init__(self, height, radius):\n",
        "        self.height = height\n",
        "        self.radius = radius\n",
        "        self.surface_area = self.get_surface_area()\n",
        "        self.volume = self.get_volume()\n",
        "\n",
        "    def get_surface_area(self):\n",
        "        \"\"\"Calculates and returns the surface area of the cylinder.\"\"\"\n",
        "        surface_area = 2 * pi * self.radius * (self.radius + self.height)\n",
        "        return surface_area\n",
        "\n",
        "    def get_volume(self):\n",
        "        \"\"\"Calculates and returns the volume of the cylinder.\"\"\"\n",
        "        volume = pi * self.radius ** 2 * self.height\n",
        "        return volume\n",
        "\n",
        ""
      ]
    },
    {
      "cell_type": "markdown",
      "id": "8fe8fb23",
      "metadata": {
        "id": "8fe8fb23"
      },
      "source": [
        "## Quick quiz\n",
        "\n",
        "1. What is the meaning of the `self` parameter?\n",
        "2. What type of method is `__init__` ?\n",
        "3. If we want to call a method of the `Cylinder` class, what do we need to do first?"
      ]
    },
    {
      "cell_type": "code",
      "execution_count": 11,
      "id": "cc3ae367",
      "metadata": {
        "collapsed": true,
        "id": "cc3ae367",
        "outputId": "e9b2410f-44b9-46c7-f32e-48c8aa6a47c1",
        "colab": {
          "base_uri": "https://localhost:8080/"
        }
      },
      "outputs": [
        {
          "output_type": "stream",
          "name": "stdout",
          "text": [
            "You selected it refers to the class\n",
            "You selected Awesome method\n",
            "You selected Add a class constructor\n"
          ]
        }
      ],
      "source": [
        "#@title Click `Show code` in the code cell. { display-mode: \"form\" }\n",
        "question_1 = \"it refers to the class\" #@param [\"it refers to the class\", \"it refers to 'this instance of the class' \", \"it refers to the current method\"]\n",
        "print('You selected', question_1)\n",
        "\n",
        "question_2 = \"Awesome method\" #@param [\"Awesome method\", \"magic method\", \"super method\"]\n",
        "print('You selected', question_2)\n",
        "\n",
        "question_3 = \"Add a class constructor\" #@param [\"Add a class constructor\", \"Create an instance of the class\", \"Call the method inside the class\"]\n",
        "print('You selected', question_3)\n"
      ]
    },
    {
      "cell_type": "code",
      "execution_count": null,
      "id": "badaeaab",
      "metadata": {
        "id": "badaeaab"
      },
      "outputs": [],
      "source": []
    }
  ],
  "metadata": {
    "kernelspec": {
      "display_name": "content-projects_new",
      "language": "python",
      "name": "python3"
    },
    "language_info": {
      "codemirror_mode": {
        "name": "ipython",
        "version": 3
      },
      "file_extension": ".py",
      "mimetype": "text/x-python",
      "name": "python",
      "nbconvert_exporter": "python",
      "pygments_lexer": "ipython3",
      "version": "3.11.0"
    },
    "vscode": {
      "interpreter": {
        "hash": "4b961f8166aad6ccb4cf65d0f9c742ef9c6c23ffe83ad932438cd83ed96aebaf"
      }
    },
    "colab": {
      "provenance": []
    }
  },
  "nbformat": 4,
  "nbformat_minor": 5
}