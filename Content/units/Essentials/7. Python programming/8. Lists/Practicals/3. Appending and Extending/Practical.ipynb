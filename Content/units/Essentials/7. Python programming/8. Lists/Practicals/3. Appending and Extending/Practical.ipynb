{
  "cells": [
    {
      "cell_type": "markdown",
      "metadata": {
        "id": "MwC9_bDxhBTd"
      },
      "source": [
        "# Appending and Extending"
      ]
    },
    {
      "cell_type": "code",
      "execution_count": 1,
      "metadata": {
        "id": "9a77f39b",
        "outputId": "a865cb09-901d-4d3b-de3e-82ee9e61186d",
        "colab": {
          "base_uri": "https://localhost:8080/"
        }
      },
      "outputs": [
        {
          "output_type": "stream",
          "name": "stdout",
          "text": [
            "Downloading the marking system\n"
          ]
        }
      ],
      "source": [
        "#@title ### Run the following cell to download the necessary files for this practical { display-mode: \"form\" }\n",
        "#@markdown Don't worry about what's in this collapsed cell\n",
        "\n",
        "print('Downloading the marking system')\n",
        "!wget https://s3-eu-west-1.amazonaws.com/aicore-portal-public-prod-307050600709/practical_files/aa08f17b-e12c-4c6a-82ba-db96e7830570/marking_system.py -q -O marking_system.py\n",
        "import marking_system\n",
        "import importlib\n",
        "importlib.reload(marking_system)\n",
        "import sys\n",
        "ipython = get_ipython()\n",
        "def hide_traceback(exc_tuple=None, filename=None, tb_offset=None, exception_only=False, running_compiled_code=False):\n",
        "    etype, value, tb = sys.exc_info()\n",
        "    value.__cause__ = None  # suppress chained exceptions\n",
        "    return ipython._showtraceback(etype, \"❌ \" + f\"\u001b[91m{value}\", ipython.InteractiveTB.get_exception_only(etype, \"❌ \" + f\"\u001b[91m{value}\"))\n",
        "ipython.showtraceback = hide_traceback\n"
      ]
    },
    {
      "cell_type": "markdown",
      "metadata": {
        "id": "bt7VkR_qhBTl"
      },
      "source": [
        "Given the following lists\n"
      ]
    },
    {
      "cell_type": "code",
      "execution_count": 2,
      "metadata": {
        "id": "NuUQnF6phBTm"
      },
      "outputs": [],
      "source": [
        "my_list_1 = [1, 2, 3, 4]\n",
        "my_list_2 = [5, 6, 7, 8]\n"
      ]
    },
    {
      "cell_type": "markdown",
      "metadata": {
        "id": "J_Wo9XNvhBTm"
      },
      "source": [
        "### 1. Appends `my_list_2` to `my_list_1`. Use the `append()` method.\n",
        "\n",
        "Print `my_list_1` and `my_list_2` to see the result."
      ]
    },
    {
      "cell_type": "code",
      "execution_count": 3,
      "metadata": {
        "id": "nMQztcyJhBTm",
        "outputId": "192823c9-1b28-4c1e-e1e7-01849bc2aee3",
        "colab": {
          "base_uri": "https://localhost:8080/"
        }
      },
      "outputs": [
        {
          "output_type": "stream",
          "name": "stdout",
          "text": [
            "[1, 2, 3, 4, [5, 6, 7, 8]]\n",
            "[5, 6, 7, 8]\n"
          ]
        }
      ],
      "source": [
        "# TODO - Append my_list_2 to my_list_1\n",
        "# TODO - Print my_list_1\n",
        "# TODO - Print my_list_2\n",
        "\n",
        "appended_list = my_list_1.append(my_list_2)\n",
        "print(my_list_1)\n",
        "print(my_list_2)\n"
      ]
    },
    {
      "cell_type": "code",
      "execution_count": 4,
      "metadata": {
        "id": "F2Ma6_g4hBTm",
        "outputId": "f79efc70-3177-424c-89f3-545810b024f4",
        "colab": {
          "base_uri": "https://localhost:8080/"
        }
      },
      "outputs": [
        {
          "output_type": "stream",
          "name": "stdout",
          "text": [
            "\u001b[92m✔ Well done! You have successfully appended a list to another list.\n"
          ]
        }
      ],
      "source": [
        "#@title #### Run this cell to check your answer { display-mode: \"form\", run: \"auto\" }\n",
        "\n",
        "assert \"my_list_1\" in globals(), \"The variable 'my_list_1' does not exist. Please, run the cell in step 1 again to create the variable 'my_list_1'.\"\n",
        "assert \"my_list_2\" in globals(), \"The variable 'my_list_2' does not exist. Please, run the cell in step 1 again to create the variable 'my_list_2'.\"\n",
        "assert my_list_1, \"The variable 'my_list_1' is empty. This might have happened because you reassigned the output of the append method to the variable 'my_list_1'. Please, run the cell in step 1 again to create the variable 'my_list_1'.\"\n",
        "\n",
        "marking_system.check_step_1(my_list_1, my_list_2)\n"
      ]
    },
    {
      "cell_type": "markdown",
      "metadata": {
        "id": "mBNFuFC4hBTm"
      },
      "source": [
        "### 2. Extends `my_list_2` with `my_list_1`. Use the `extend()` method.\n",
        "\n",
        "Print `my_list_1` and `my_list_2` to see the result.\n",
        "\n",
        "_Run the following cell to reset the values of `my_list_1` and `my_list_2`._"
      ]
    },
    {
      "cell_type": "code",
      "execution_count": 22,
      "metadata": {
        "id": "njnhTbbuhBTn"
      },
      "outputs": [],
      "source": [
        "my_list_1 = [1, 2, 3, 4]\n",
        "my_list_2 = [5, 6, 7, 8]\n"
      ]
    },
    {
      "cell_type": "code",
      "execution_count": 23,
      "metadata": {
        "id": "dTHNyWbDhBTn",
        "outputId": "a681fa2d-d58e-44a0-e889-1d18ea9f242d",
        "colab": {
          "base_uri": "https://localhost:8080/"
        }
      },
      "outputs": [
        {
          "output_type": "stream",
          "name": "stdout",
          "text": [
            "[1, 2, 3, 4, 5, 6, 7, 8]\n",
            "[5, 6, 7, 8]\n"
          ]
        }
      ],
      "source": [
        "# TODO - Extend my_list_1 with my_list_2\n",
        "# TODO - Print my_list_1\n",
        "# TODO - Print my_list_2\n",
        "\n",
        "my_list_1.extend(my_list_2)\n",
        "print(my_list_1)\n",
        "print(my_list_2)"
      ]
    },
    {
      "cell_type": "code",
      "execution_count": 24,
      "metadata": {
        "id": "tFix1wg2hBTn",
        "outputId": "a1a26bf5-3272-4c39-b906-281f48f5ea4c",
        "colab": {
          "base_uri": "https://localhost:8080/"
        }
      },
      "outputs": [
        {
          "output_type": "stream",
          "name": "stdout",
          "text": [
            "\u001b[92m✔ Well done! You have successfully extended a list with another list.\n"
          ]
        }
      ],
      "source": [
        "#@title #### Run this cell to check your answer { display-mode: \"form\", run: \"auto\" }\n",
        "\n",
        "assert \"my_list_1\" in globals(), \"The variable 'my_list_1' does not exist. Please, run the cell in step 1 again to create the variable 'my_list_1'.\"\n",
        "assert \"my_list_2\" in globals(), \"The variable 'my_list_2' does not exist. Please, run the cell in step 1 again to create the variable 'my_list_2'.\"\n",
        "assert my_list_1, \"The variable 'my_list_1' is empty. This might have happened because you reassigned the output of the extend method to the variable 'my_list_1'. Please, run the cell in step 1 again to create the variable 'my_list_1'.\"\n",
        "\n",
        "marking_system.check_step_2(my_list_1, my_list_2)\n"
      ]
    }
  ],
  "metadata": {
    "kernelspec": {
      "display_name": "content-projects_new",
      "language": "python",
      "name": "python3"
    },
    "language_info": {
      "name": "python",
      "version": "3.10.8"
    },
    "vscode": {
      "interpreter": {
        "hash": "4b961f8166aad6ccb4cf65d0f9c742ef9c6c23ffe83ad932438cd83ed96aebaf"
      }
    },
    "colab": {
      "provenance": []
    }
  },
  "nbformat": 4,
  "nbformat_minor": 0
}