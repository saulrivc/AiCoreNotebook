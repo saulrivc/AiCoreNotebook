{
  "cells": [
    {
      "cell_type": "markdown",
      "id": "c92f4159",
      "metadata": {
        "id": "c92f4159"
      },
      "source": [
        "# Debug the Code - Part 3"
      ]
    },
    {
      "cell_type": "code",
      "execution_count": 1,
      "id": "9350190f",
      "metadata": {
        "id": "9350190f",
        "outputId": "0128dfbe-ab31-4575-ebe3-73d61f4dede6",
        "colab": {
          "base_uri": "https://localhost:8080/"
        }
      },
      "outputs": [
        {
          "output_type": "stream",
          "name": "stdout",
          "text": [
            "Downloading expected_output.txt...\n",
            "Downloading to_debug.py...\n"
          ]
        }
      ],
      "source": [
        "#@title ### Run the following cell to download the necessary files for this practical { display-mode: \"form\" }\n",
        "#@markdown Don't worry about what's in this collapsed cell\n",
        "\n",
        "print('Downloading expected_output.txt...')\n",
        "!wget https://s3-eu-west-1.amazonaws.com/aicore-portal-public-prod-307050600709/practical_files/e5159940-957b-4a5c-96da-c1523abb9f6a/expected_output.txt -q -O expected_output.txt\n",
        "print('Downloading to_debug.py...')\n",
        "!wget https://s3-eu-west-1.amazonaws.com/aicore-portal-public-prod-307050600709/practical_files/e5159940-957b-4a5c-96da-c1523abb9f6a/to_debug.py -q -O to_debug.py\n"
      ]
    },
    {
      "cell_type": "markdown",
      "id": "beacbd9e",
      "metadata": {
        "id": "beacbd9e"
      },
      "source": [
        "\n",
        "<details>\n",
        "<summary>Some parts in this practical will require\n",
        "you to open a file. Click here to see how to do it.</summary>\n",
        "<ul>\n",
        "<li>Click on the folder logo on the left side of the screen</li>\n",
        "<p align=center><img src=\"https://github.com/AI-Core/Practicals-Public/blob/main/Content/units/Essentials/7.%20Python%20programming/19.%20Debugging/Practicals/2.%20Debug%20the%20Code%20-%20Part%203/images/read_1.png?raw=1\"></p>\n",
        "<li>Double click on the file you want to open</li>\n",
        "<p align=center><img src=\"https://github.com/AI-Core/Practicals-Public/blob/main/Content/units/Essentials/7.%20Python%20programming/19.%20Debugging/Practicals/2.%20Debug%20the%20Code%20-%20Part%203/images/read_2.png?raw=1\"></p>\n",
        "<li>The file will appear on the right side of the screen</li>\n",
        "<p align=center><img src=\"https://github.com/AI-Core/Practicals-Public/blob/main/Content/units/Essentials/7.%20Python%20programming/19.%20Debugging/Practicals/2.%20Debug%20the%20Code%20-%20Part%203/images/read_3.png?raw=1\"></p>\n",
        "</ul>\n",
        "</details>\n",
        "    \n",
        "<details>\n",
        "<summary>Some parts in this practical will require\n",
        "you to update a file. Click here to see how to do it.</summary>\n",
        "<ul>\n",
        "<li>Click on the folder logo on the left side of the screen</li>\n",
        "<p align=center><img src=\"https://github.com/AI-Core/Practicals-Public/blob/main/Content/units/Essentials/7.%20Python%20programming/19.%20Debugging/Practicals/2.%20Debug%20the%20Code%20-%20Part%203/images/update_1.png?raw=1\"></p>\n",
        "<li>\n",
        "    Double click on the file you want to update. The image will appear on the right side of the screen.\n",
        "    You can edit the file by clicking on the text area, and then saving your changes.\n",
        "</li>\n",
        "<p align=center><img src=\"https://github.com/AI-Core/Practicals-Public/blob/main/Content/units/Essentials/7.%20Python%20programming/19.%20Debugging/Practicals/2.%20Debug%20the%20Code%20-%20Part%203/images/update_2.png?raw=1\"></p>\n",
        "</ul>\n",
        "</details>\n",
        "    "
      ]
    },
    {
      "cell_type": "markdown",
      "id": "fa436326",
      "metadata": {
        "id": "fa436326"
      },
      "source": [
        "#### 1. Run `to_debug.py` to find the errors"
      ]
    },
    {
      "cell_type": "code",
      "execution_count": 2,
      "id": "c6d8107e",
      "metadata": {
        "id": "c6d8107e",
        "outputId": "b5fce503-908a-4f43-f60d-547874721739",
        "colab": {
          "base_uri": "https://localhost:8080/",
          "height": 110
        }
      },
      "outputs": [
        {
          "output_type": "error",
          "ename": "SyntaxError",
          "evalue": "unmatched ')' (to_debug.py, line 3)",
          "traceback": [
            "\u001b[0;36m  File \u001b[0;32m\"/content/to_debug.py\"\u001b[0;36m, line \u001b[0;32m3\u001b[0m\n\u001b[0;31m    exam_two = input(\"Input exam grade two: \"))\u001b[0m\n\u001b[0m                                              ^\u001b[0m\n\u001b[0;31mSyntaxError\u001b[0m\u001b[0;31m:\u001b[0m unmatched ')'\n"
          ]
        }
      ],
      "source": [
        "%run to_debug.py"
      ]
    },
    {
      "cell_type": "markdown",
      "id": "e99ff0f3",
      "metadata": {
        "id": "e99ff0f3"
      },
      "source": [
        "#### 2. Debug it, so it can run with no errors"
      ]
    },
    {
      "cell_type": "code",
      "execution_count": 6,
      "id": "c574467e",
      "metadata": {
        "id": "c574467e",
        "outputId": "9a4695ed-c10e-4d7f-c071-0badafef45d5",
        "colab": {
          "base_uri": "https://localhost:8080/"
        }
      },
      "outputs": [
        {
          "output_type": "stream",
          "name": "stdout",
          "text": [
            "Input exam grade one: 100\n",
            "Input exam grade two: 100\n",
            "Input exam grade three: 100\n",
            "Exam: 100\n",
            "Exam: 100\n",
            "Exam: 100\n",
            "Average: 100.0\n",
            "Grade: A\n",
            "Student is passing.\n"
          ]
        }
      ],
      "source": [
        "%run to_debug.py"
      ]
    },
    {
      "cell_type": "markdown",
      "id": "5a5c6937",
      "metadata": {
        "id": "5a5c6937"
      },
      "source": [
        "#### 3. The expected output after debugging it can be seen in `expected_output.txt`\n",
        "\n",
        "Extra points if you can also fix the code style errors. Take a look at this [link](https://www.python.org/dev/peps/pep-0008/) to learn more about coding style."
      ]
    },
    {
      "cell_type": "code",
      "execution_count": null,
      "id": "bfa4ee43",
      "metadata": {
        "id": "bfa4ee43"
      },
      "outputs": [],
      "source": []
    }
  ],
  "metadata": {
    "kernelspec": {
      "display_name": "content-projects_new",
      "language": "python",
      "name": "python3"
    },
    "language_info": {
      "codemirror_mode": {
        "name": "ipython",
        "version": 3
      },
      "file_extension": ".py",
      "mimetype": "text/x-python",
      "name": "python",
      "nbconvert_exporter": "python",
      "pygments_lexer": "ipython3",
      "version": "3.10.8"
    },
    "vscode": {
      "interpreter": {
        "hash": "4b961f8166aad6ccb4cf65d0f9c742ef9c6c23ffe83ad932438cd83ed96aebaf"
      }
    },
    "colab": {
      "provenance": []
    }
  },
  "nbformat": 4,
  "nbformat_minor": 5
}