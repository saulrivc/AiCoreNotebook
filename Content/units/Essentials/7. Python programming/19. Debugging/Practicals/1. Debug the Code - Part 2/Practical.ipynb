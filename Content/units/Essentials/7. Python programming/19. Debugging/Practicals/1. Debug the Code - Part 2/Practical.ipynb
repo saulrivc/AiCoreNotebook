{
  "cells": [
    {
      "cell_type": "markdown",
      "id": "9bc8f8a4",
      "metadata": {
        "id": "9bc8f8a4"
      },
      "source": [
        "# Debug the Code - Part 2"
      ]
    },
    {
      "cell_type": "code",
      "execution_count": 1,
      "id": "e1951df3",
      "metadata": {
        "id": "e1951df3",
        "outputId": "2fcdb1c9-f082-4349-da68-0ccc343727ff",
        "colab": {
          "base_uri": "https://localhost:8080/"
        }
      },
      "outputs": [
        {
          "output_type": "stream",
          "name": "stdout",
          "text": [
            "Downloading expected_output.txt...\n",
            "Downloading to_debug.py...\n"
          ]
        }
      ],
      "source": [
        "#@title ### Run the following cell to download the necessary files for this practical { display-mode: \"form\" }\n",
        "#@markdown Don't worry about what's in this collapsed cell\n",
        "\n",
        "print('Downloading expected_output.txt...')\n",
        "!wget https://s3-eu-west-1.amazonaws.com/aicore-portal-public-prod-307050600709/practical_files/a26cf6fa-cd2e-4811-b32f-eaaf80bbb440/expected_output.txt -q -O expected_output.txt\n",
        "print('Downloading to_debug.py...')\n",
        "!wget https://s3-eu-west-1.amazonaws.com/aicore-portal-public-prod-307050600709/practical_files/a26cf6fa-cd2e-4811-b32f-eaaf80bbb440/to_debug.py -q -O to_debug.py\n"
      ]
    },
    {
      "cell_type": "markdown",
      "id": "fcba816f",
      "metadata": {
        "id": "fcba816f"
      },
      "source": [
        "\n",
        "<details>\n",
        "<summary>Some parts in this practical will require\n",
        "you to open a file. Click here to see how to do it.</summary>\n",
        "<ul>\n",
        "<li>Click on the folder logo on the left side of the screen</li>\n",
        "<p align=center><img src=\"https://github.com/AI-Core/Practicals-Public/blob/main/Content/units/Essentials/7.%20Python%20programming/19.%20Debugging/Practicals/1.%20Debug%20the%20Code%20-%20Part%202/images/read_1.png?raw=1\"></p>\n",
        "<li>Double click on the file you want to open</li>\n",
        "<p align=center><img src=\"https://github.com/AI-Core/Practicals-Public/blob/main/Content/units/Essentials/7.%20Python%20programming/19.%20Debugging/Practicals/1.%20Debug%20the%20Code%20-%20Part%202/images/read_2.png?raw=1\"></p>\n",
        "<li>The file will appear on the right side of the screen</li>\n",
        "<p align=center><img src=\"https://github.com/AI-Core/Practicals-Public/blob/main/Content/units/Essentials/7.%20Python%20programming/19.%20Debugging/Practicals/1.%20Debug%20the%20Code%20-%20Part%202/images/read_3.png?raw=1\"></p>\n",
        "</ul>\n",
        "</details>\n",
        "    \n",
        "<details>\n",
        "<summary>Some parts in this practical will require\n",
        "you to update a file. Click here to see how to do it.</summary>\n",
        "<ul>\n",
        "<li>Click on the folder logo on the left side of the screen</li>\n",
        "<p align=center><img src=\"https://github.com/AI-Core/Practicals-Public/blob/main/Content/units/Essentials/7.%20Python%20programming/19.%20Debugging/Practicals/1.%20Debug%20the%20Code%20-%20Part%202/images/update_1.png?raw=1\"></p>\n",
        "<li>\n",
        "    Double click on the file you want to update. The image will appear on the right side of the screen.\n",
        "    You can edit the file by clicking on the text area, and then saving your changes.\n",
        "</li>\n",
        "<p align=center><img src=\"https://github.com/AI-Core/Practicals-Public/blob/main/Content/units/Essentials/7.%20Python%20programming/19.%20Debugging/Practicals/1.%20Debug%20the%20Code%20-%20Part%202/images/update_2.png?raw=1\"></p>\n",
        "</ul>\n",
        "</details>\n",
        "    "
      ]
    },
    {
      "cell_type": "markdown",
      "id": "314f29d0",
      "metadata": {
        "id": "314f29d0"
      },
      "source": [
        "#### 1. Run `to_debug.py` to find the errors"
      ]
    },
    {
      "cell_type": "code",
      "execution_count": 5,
      "id": "23b0e6b2",
      "metadata": {
        "id": "23b0e6b2",
        "outputId": "e3d5816c-a976-45d7-f7af-f7af5857b35b",
        "colab": {
          "base_uri": "https://localhost:8080/"
        }
      },
      "outputs": [
        {
          "output_type": "stream",
          "name": "stdout",
          "text": [
            "The capital of France is Paris\n",
            "The capital of Spain is Madrid\n",
            "The capital of Germany is Berlin\n",
            "The capital of Japan is Tokyo\n",
            "The capital of Norway is Oslo\n"
          ]
        }
      ],
      "source": [
        "%run to_debug.py"
      ]
    },
    {
      "cell_type": "markdown",
      "id": "21497664",
      "metadata": {
        "id": "21497664"
      },
      "source": [
        "#### 2. Debug it, so it can run with no errors"
      ]
    },
    {
      "cell_type": "code",
      "execution_count": 7,
      "id": "303e5068",
      "metadata": {
        "id": "303e5068",
        "outputId": "88d17f11-bff8-4c24-bb22-8d1386e2fee6",
        "colab": {
          "base_uri": "https://localhost:8080/"
        }
      },
      "outputs": [
        {
          "output_type": "stream",
          "name": "stdout",
          "text": [
            "The capital of France is Paris\n",
            "The capital of Spain is Madrid\n",
            "The capital of Germany is Berlin\n",
            "The capital of Japan is Tokyo\n",
            "The capital of Norway is Oslo\n"
          ]
        }
      ],
      "source": [
        "%run to_debug.py"
      ]
    },
    {
      "cell_type": "markdown",
      "id": "d128bb3f",
      "metadata": {
        "id": "d128bb3f"
      },
      "source": [
        "#### 3. The expected output after debugging it can be seen in the `expected_output.txt` file"
      ]
    },
    {
      "cell_type": "code",
      "source": [],
      "metadata": {
        "id": "54EXX3V-wnD7"
      },
      "id": "54EXX3V-wnD7",
      "execution_count": null,
      "outputs": []
    }
  ],
  "metadata": {
    "kernelspec": {
      "display_name": "content-projects_new",
      "language": "python",
      "name": "python3"
    },
    "language_info": {
      "codemirror_mode": {
        "name": "ipython",
        "version": 3
      },
      "file_extension": ".py",
      "mimetype": "text/x-python",
      "name": "python",
      "nbconvert_exporter": "python",
      "pygments_lexer": "ipython3",
      "version": "3.10.8"
    },
    "vscode": {
      "interpreter": {
        "hash": "4b961f8166aad6ccb4cf65d0f9c742ef9c6c23ffe83ad932438cd83ed96aebaf"
      }
    },
    "colab": {
      "provenance": []
    }
  },
  "nbformat": 4,
  "nbformat_minor": 5
}