{
  "cells": [
    {
      "cell_type": "markdown",
      "id": "a99e436f",
      "metadata": {
        "id": "a99e436f"
      },
      "source": [
        "# Debug the Code - Part 1"
      ]
    },
    {
      "cell_type": "code",
      "execution_count": 10,
      "id": "7934731f",
      "metadata": {
        "id": "7934731f",
        "outputId": "a3989f92-a9ef-437d-cd94-d029fceee3e1",
        "colab": {
          "base_uri": "https://localhost:8080/"
        }
      },
      "outputs": [
        {
          "output_type": "stream",
          "name": "stdout",
          "text": [
            "Downloading expected_output.txt...\n",
            "Downloading to_debug.py...\n"
          ]
        }
      ],
      "source": [
        "#@title ### Run the following cell to download the necessary files for this practical { display-mode: \"form\" }\n",
        "#@markdown Don't worry about what's in this collapsed cell\n",
        "\n",
        "print('Downloading expected_output.txt...')\n",
        "!wget https://s3-eu-west-1.amazonaws.com/aicore-portal-public-prod-307050600709/practical_files/fe85d96d-7c26-432a-a25e-999acff6c149/expected_output.txt -q -O expected_output.txt\n",
        "print('Downloading to_debug.py...')\n",
        "!wget https://s3-eu-west-1.amazonaws.com/aicore-portal-public-prod-307050600709/practical_files/fe85d96d-7c26-432a-a25e-999acff6c149/to_debug.py -q -O to_debug.py\n"
      ]
    },
    {
      "cell_type": "markdown",
      "id": "d9394284",
      "metadata": {
        "id": "d9394284"
      },
      "source": [
        "\n",
        "<details>\n",
        "<summary>Some parts in this practical will require\n",
        "you to open a file. Click here to see how to do it.</summary>\n",
        "<ul>\n",
        "<li>Click on the folder logo on the left side of the screen</li>\n",
        "<p align=center><img src=\"https://github.com/AI-Core/Practicals-Public/blob/main/Content/units/Essentials/7.%20Python%20programming/19.%20Debugging/Practicals/0.%20Debug%20the%20Code%20-%20Part%201/images/read_1.png?raw=1\"></p>\n",
        "<li>Double click on the file you want to open</li>\n",
        "<p align=center><img src=\"https://github.com/AI-Core/Practicals-Public/blob/main/Content/units/Essentials/7.%20Python%20programming/19.%20Debugging/Practicals/0.%20Debug%20the%20Code%20-%20Part%201/images/read_2.png?raw=1\"></p>\n",
        "<li>The file will appear on the right side of the screen</li>\n",
        "<p align=center><img src=\"https://github.com/AI-Core/Practicals-Public/blob/main/Content/units/Essentials/7.%20Python%20programming/19.%20Debugging/Practicals/0.%20Debug%20the%20Code%20-%20Part%201/images/read_3.png?raw=1\"></p>\n",
        "</ul>\n",
        "</details>\n",
        "    \n",
        "<details>\n",
        "<summary>Some parts in this practical will require\n",
        "you to update a file. Click here to see how to do it.</summary>\n",
        "<ul>\n",
        "<li>Click on the folder logo on the left side of the screen</li>\n",
        "<p align=center><img src=\"https://github.com/AI-Core/Practicals-Public/blob/main/Content/units/Essentials/7.%20Python%20programming/19.%20Debugging/Practicals/0.%20Debug%20the%20Code%20-%20Part%201/images/update_1.png?raw=1\"></p>\n",
        "<li>\n",
        "    Double click on the file you want to update. The image will appear on the right side of the screen.\n",
        "    You can edit the file by clicking on the text area, and then saving your changes.\n",
        "</li>\n",
        "<p align=center><img src=\"https://github.com/AI-Core/Practicals-Public/blob/main/Content/units/Essentials/7.%20Python%20programming/19.%20Debugging/Practicals/0.%20Debug%20the%20Code%20-%20Part%201/images/update_2.png?raw=1\"></p>\n",
        "</ul>\n",
        "</details>\n",
        "    "
      ]
    },
    {
      "cell_type": "markdown",
      "id": "825fdbe1",
      "metadata": {
        "id": "825fdbe1"
      },
      "source": [
        "### 1. Run `to_debug.py` to find the errors"
      ]
    },
    {
      "cell_type": "code",
      "execution_count": 11,
      "id": "f03681e9",
      "metadata": {
        "id": "f03681e9",
        "outputId": "f09d05c7-7958-45c7-879d-5fa589318c32",
        "colab": {
          "base_uri": "https://localhost:8080/"
        }
      },
      "outputs": [
        {
          "output_type": "stream",
          "name": "stdout",
          "text": [
            "7\n",
            "3\n",
            "Cat\n"
          ]
        }
      ],
      "source": [
        "%run to_debug.py"
      ]
    },
    {
      "cell_type": "markdown",
      "id": "95b490e0",
      "metadata": {
        "id": "95b490e0"
      },
      "source": [
        "### 2. Debug it, so it can run with no errors"
      ]
    },
    {
      "cell_type": "code",
      "execution_count": 13,
      "id": "280ac613",
      "metadata": {
        "id": "280ac613",
        "outputId": "1e7fe0e2-71d4-4fcc-cda1-469d70956065",
        "colab": {
          "base_uri": "https://localhost:8080/"
        }
      },
      "outputs": [
        {
          "output_type": "stream",
          "name": "stdout",
          "text": [
            "7\n",
            "3\n",
            "Cat\n"
          ]
        }
      ],
      "source": [
        "%run to_debug.py"
      ]
    },
    {
      "cell_type": "markdown",
      "id": "cf6662ff",
      "metadata": {
        "id": "cf6662ff"
      },
      "source": [
        "### 3. The expected output after debugging it can be seen in the `expected_output.txt` file"
      ]
    },
    {
      "cell_type": "code",
      "execution_count": 13,
      "id": "815cde88",
      "metadata": {
        "id": "815cde88"
      },
      "outputs": [],
      "source": []
    }
  ],
  "metadata": {
    "language_info": {
      "name": "python"
    },
    "colab": {
      "provenance": []
    },
    "kernelspec": {
      "name": "python3",
      "display_name": "Python 3"
    }
  },
  "nbformat": 4,
  "nbformat_minor": 5
}