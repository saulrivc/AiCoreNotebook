{
  "cells": [
    {
      "cell_type": "markdown",
      "metadata": {
        "id": "o_fITqPh0fsS"
      },
      "source": [
        "# Integers and Floats"
      ]
    },
    {
      "cell_type": "code",
      "execution_count": 1,
      "metadata": {
        "id": "ed614946",
        "outputId": "646dde2a-7c28-4030-824d-4dbb44b927ab",
        "colab": {
          "base_uri": "https://localhost:8080/"
        }
      },
      "outputs": [
        {
          "output_type": "stream",
          "name": "stdout",
          "text": [
            "Downloading the marking system\n"
          ]
        }
      ],
      "source": [
        "#@title ### Run the following cell to download the necessary files for this practical { display-mode: \"form\" }\n",
        "#@markdown Don't worry about what's in this collapsed cell\n",
        "\n",
        "print('Downloading the marking system')\n",
        "!wget https://s3-eu-west-1.amazonaws.com/aicore-portal-public-prod-307050600709/practical_files/cc9d26e3-cb43-4db4-be73-222e33e2ab3f/marking_system.py -q -O marking_system.py\n",
        "import marking_system\n",
        "import importlib\n",
        "importlib.reload(marking_system)\n",
        "import sys\n",
        "ipython = get_ipython()\n",
        "def hide_traceback(exc_tuple=None, filename=None, tb_offset=None, exception_only=False, running_compiled_code=False):\n",
        "    etype, value, tb = sys.exc_info()\n",
        "    value.__cause__ = None  # suppress chained exceptions\n",
        "    return ipython._showtraceback(etype, \"❌ \" + f\"\u001b[91m{value}\", ipython.InteractiveTB.get_exception_only(etype, \"❌ \" + f\"\u001b[91m{value}\"))\n",
        "ipython.showtraceback = hide_traceback\n"
      ]
    },
    {
      "cell_type": "markdown",
      "metadata": {
        "id": "gJHvWZ4m0fsa"
      },
      "source": [
        "### 1. Define two variables, `a` and `b` and assign them the values `5` and `2` respectively."
      ]
    },
    {
      "cell_type": "code",
      "execution_count": 2,
      "metadata": {
        "id": "HF3BaGuX0fsa"
      },
      "outputs": [],
      "source": [
        "# TODO: Create a variable called 'a' and assign it the value of 5.\n",
        "# TODO: Create a variable called 'b' and assign it the value of 2.\n",
        "\n",
        "a = 5\n",
        "b = 2\n"
      ]
    },
    {
      "cell_type": "code",
      "execution_count": 3,
      "metadata": {
        "id": "Vy0l0IDn0fsa",
        "outputId": "1498cd80-32dd-4ddb-93d3-7041cd6e4000",
        "colab": {
          "base_uri": "https://localhost:8080/"
        }
      },
      "outputs": [
        {
          "output_type": "stream",
          "name": "stdout",
          "text": [
            "\u001b[92m✔ Well done! You have successfully assigned values to the variables 'a' and 'b'.\n"
          ]
        }
      ],
      "source": [
        "#@title #### Run this cell to check your solution { display-mode: \"form\", run: \"auto\" }\n",
        "\n",
        "assert \"a\" in globals(), \"You haven't defined the variable 'a'.\"\n",
        "assert \"b\" in globals(), \"You haven't defined the variable 'b'.\"\n",
        "marking_system.check_step_1(a=a, b=b)\n"
      ]
    },
    {
      "cell_type": "markdown",
      "metadata": {
        "id": "1urH8A-c0fsa"
      },
      "source": [
        "### 2. What is the type of `a` and `b`?"
      ]
    },
    {
      "cell_type": "code",
      "execution_count": 4,
      "metadata": {
        "id": "QiggC6DB0fsa",
        "outputId": "5c536982-af6a-4f6b-97f0-848098e7e633",
        "colab": {
          "base_uri": "https://localhost:8080/"
        }
      },
      "outputs": [
        {
          "output_type": "stream",
          "name": "stdout",
          "text": [
            "<class 'int'>\n",
            "<class 'int'>\n"
          ]
        }
      ],
      "source": [
        "# TODO: Print the type of 'a'.\n",
        "# TODO: Print the type of 'b'.\n",
        "\n",
        "print(type(a))\n",
        "print(type(b))\n"
      ]
    },
    {
      "cell_type": "code",
      "execution_count": 5,
      "metadata": {
        "id": "1QRPvnI40fsa",
        "outputId": "19cd4b6a-4015-4ba1-879b-e14e7589e5ca",
        "colab": {
          "base_uri": "https://localhost:8080/"
        }
      },
      "outputs": [
        {
          "output_type": "stream",
          "name": "stdout",
          "text": [
            "\u001b[92m✔ Well done! Your answer is correct.\n"
          ]
        }
      ],
      "source": [
        "#@title #### Enter your solution here { display-mode: \"form\", run: \"auto\" }\n",
        "\n",
        "#@markdown What is the type of 'a'?\n",
        "a_type = \"int\" #@param [\"int\", \"str\", \"float\"] {allow-input: true}\n",
        "#@markdown What is the type of 'b'?\n",
        "b_type = \"int\" #@param [\"int\", \"str\", \"float\"] {allow-input: true}\n",
        "marking_system.check_step_2(a_type=a_type, b_type=b_type)\n"
      ]
    },
    {
      "cell_type": "markdown",
      "metadata": {
        "id": "W0FHL6sg0fsa"
      },
      "source": [
        "### 3. Define a variable called `c` and assign it the value of `a / b`\n"
      ]
    },
    {
      "cell_type": "code",
      "execution_count": 6,
      "metadata": {
        "id": "9CfoDYpH0fsa"
      },
      "outputs": [],
      "source": [
        "# TODO: Create a variable called 'c' and assign it the value of 'a' divided by 'b'.\n",
        "\n",
        "c = a / b"
      ]
    },
    {
      "cell_type": "code",
      "execution_count": 7,
      "metadata": {
        "id": "eNtDj8Tk0fsb",
        "outputId": "043cadab-d7e0-41df-e77e-3ace1ed8e5f1",
        "colab": {
          "base_uri": "https://localhost:8080/"
        }
      },
      "outputs": [
        {
          "output_type": "stream",
          "name": "stdout",
          "text": [
            "\u001b[92m✔ Well done! You have successfully assigned the value of the division of 'a' by 'b' to the variable 'c'.\n"
          ]
        }
      ],
      "source": [
        "#@title #### Run this cell to check your solution { display-mode: \"form\", run: \"auto\" }\n",
        "\n",
        "assert \"c\" in globals(), \"You haven't defined the variable 'c'.\"\n",
        "marking_system.check_step_3(c=c)\n"
      ]
    },
    {
      "cell_type": "markdown",
      "metadata": {
        "id": "-yGj8HYG0fsb"
      },
      "source": [
        "### 4. What is the type of `c`?"
      ]
    },
    {
      "cell_type": "code",
      "execution_count": 9,
      "metadata": {
        "id": "uoe8ajU40fsb",
        "outputId": "a817f01e-1b0a-448e-dafe-485db82ea366",
        "colab": {
          "base_uri": "https://localhost:8080/"
        }
      },
      "outputs": [
        {
          "output_type": "stream",
          "name": "stdout",
          "text": [
            "<class 'float'>\n"
          ]
        }
      ],
      "source": [
        "# TODO: Print the type of 'c'.\n",
        "\n",
        "print(type(c))"
      ]
    },
    {
      "cell_type": "code",
      "execution_count": 10,
      "metadata": {
        "id": "vHyk8Zze0fsb",
        "outputId": "0f27e552-f569-4bf1-9efb-c08d0e228220",
        "colab": {
          "base_uri": "https://localhost:8080/"
        }
      },
      "outputs": [
        {
          "output_type": "stream",
          "name": "stdout",
          "text": [
            "\u001b[92m✔ Well done! Your answer is correct.\n"
          ]
        }
      ],
      "source": [
        "#@title #### Enter your solution here { display-mode: \"form\", run: \"auto\" }\n",
        "\n",
        "#@markdown What is the type of the 'c'?\n",
        "c_type = \"float\" #@param [\"int\", \"str\", \"float\"] {allow-input: true}\n",
        "marking_system.check_step_4(c_type=c_type)\n"
      ]
    },
    {
      "cell_type": "markdown",
      "metadata": {
        "id": "VIyXdgdm0fsb"
      },
      "source": [
        "### 5. Define a variable called `d` and assign it the value of `a // b`\n"
      ]
    },
    {
      "cell_type": "code",
      "execution_count": 11,
      "metadata": {
        "id": "_6XLwEmg0fsb"
      },
      "outputs": [],
      "source": [
        "# TODO: Create a variable called 'd' and assign it the value of 'a' divided by 'b' using integer division.\n",
        "\n",
        "d = a // b"
      ]
    },
    {
      "cell_type": "code",
      "execution_count": 12,
      "metadata": {
        "id": "Od6PJ3vD0fsb",
        "outputId": "dcd73dca-669a-4491-b59e-46d73b5a98cf",
        "colab": {
          "base_uri": "https://localhost:8080/"
        }
      },
      "outputs": [
        {
          "output_type": "stream",
          "name": "stdout",
          "text": [
            "\u001b[92m✔ Well done! You have successfully assigned the value of the floor division of 'a' by 'b' to the variable 'd'.By default, Python returns a float when performing a division operation, but it returns an integer when performing a floor division operation.\n"
          ]
        }
      ],
      "source": [
        "#@title #### Run this cell to check your solution { display-mode: \"form\", run: \"auto\" }\n",
        "\n",
        "assert \"d\" in globals(), \"You haven't defined the variable 'd'.\"\n",
        "marking_system.check_step_5(d=d)\n"
      ]
    },
    {
      "cell_type": "markdown",
      "metadata": {
        "id": "brzAjmyk0fsb"
      },
      "source": [
        "### 6. What is the type of `d`?\n"
      ]
    },
    {
      "cell_type": "code",
      "execution_count": 13,
      "metadata": {
        "id": "1kvdOAjN0fsb",
        "outputId": "6e627349-faa7-4422-d851-9828aacecc31",
        "colab": {
          "base_uri": "https://localhost:8080/"
        }
      },
      "outputs": [
        {
          "output_type": "stream",
          "name": "stdout",
          "text": [
            "<class 'int'>\n"
          ]
        }
      ],
      "source": [
        "# TODO: Print the type of 'd'.\n",
        "\n",
        "print(type(d))"
      ]
    },
    {
      "cell_type": "code",
      "execution_count": 14,
      "metadata": {
        "id": "WWHGe6Sr0fsb",
        "outputId": "cd1c6afe-0875-41f8-895d-bb8cb231dcc1",
        "colab": {
          "base_uri": "https://localhost:8080/"
        }
      },
      "outputs": [
        {
          "output_type": "stream",
          "name": "stdout",
          "text": [
            "\u001b[92m✔ Well done! A floor division operation returns an integer.\n"
          ]
        }
      ],
      "source": [
        "#@title #### Enter your solution here { display-mode: \"form\", run: \"auto\" }\n",
        "\n",
        "#@markdown What is the type of the 'd'?\n",
        "d_type = \"int\" #@param [\"int\", \"str\", \"float\", \"None\"] {allow-input: true}\n",
        "marking_system.check_step_6(d_type=d_type)\n"
      ]
    }
  ],
  "metadata": {
    "kernelspec": {
      "display_name": "content-projects_new",
      "language": "python",
      "name": "python3"
    },
    "language_info": {
      "codemirror_mode": {
        "name": "ipython",
        "version": 3
      },
      "file_extension": ".py",
      "mimetype": "text/x-python",
      "name": "python",
      "nbconvert_exporter": "python",
      "pygments_lexer": "ipython3",
      "version": "3.10.8"
    },
    "vscode": {
      "interpreter": {
        "hash": "4b961f8166aad6ccb4cf65d0f9c742ef9c6c23ffe83ad932438cd83ed96aebaf"
      }
    },
    "colab": {
      "provenance": []
    }
  },
  "nbformat": 4,
  "nbformat_minor": 0
}