{
  "cells": [
    {
      "cell_type": "markdown",
      "id": "d6368a57",
      "metadata": {
        "id": "d6368a57"
      },
      "source": [
        "# Create a Simple Assertion"
      ]
    },
    {
      "cell_type": "code",
      "execution_count": 1,
      "id": "88e7c1a9",
      "metadata": {
        "id": "88e7c1a9",
        "outputId": "b37373ca-becf-45e6-ef64-28cdcf6939d4",
        "colab": {
          "base_uri": "https://localhost:8080/"
        }
      },
      "outputs": [
        {
          "output_type": "stream",
          "name": "stdout",
          "text": [
            "  Preparing metadata (setup.py) ... \u001b[?25l\u001b[?25hdone\n",
            "  Building wheel for timeout-decorator (setup.py) ... \u001b[?25l\u001b[?25hdone\n",
            "Downloading the marking system\n"
          ]
        }
      ],
      "source": [
        "#@title ### Run the following cell to download the necessary files for this practical { display-mode: \"form\" }\n",
        "#@markdown Don't worry about what's in this collapsed cell\n",
        "\n",
        "!pip install -q timeout-decorator\n",
        "print('Downloading the marking system')\n",
        "!wget https://s3-eu-west-1.amazonaws.com/aicore-portal-public-prod-307050600709/practical_files/f485d466-699c-449a-b954-128c32693a2e/marking_system.py -q -O marking_system.py\n",
        "import marking_system\n",
        "import importlib\n",
        "importlib.reload(marking_system)\n",
        "import sys\n",
        "ipython = get_ipython()\n",
        "def hide_traceback(exc_tuple=None, filename=None, tb_offset=None, exception_only=False, running_compiled_code=False):\n",
        "    etype, value, tb = sys.exc_info()\n",
        "    value.__cause__ = None  # suppress chained exceptions\n",
        "    return ipython._showtraceback(etype, \"❌ \" + f\"\u001b[91m{value}\", ipython.InteractiveTB.get_exception_only(etype, \"❌ \" + f\"\u001b[91m{value}\"))\n",
        "ipython.showtraceback = hide_traceback\n"
      ]
    },
    {
      "cell_type": "markdown",
      "id": "ecdd8dc7",
      "metadata": {
        "id": "ecdd8dc7"
      },
      "source": [
        "### 1. Add an assertion that checks if the name is `\"John\"`.\n",
        "\n",
        "If it is, print out the message `\"Hello, John\"`. If it isn't, raise an `AssertionError` with the message `\"You are not John\"`\n",
        "\n",
        "Use the following code to get started\n",
        "\n",
        "__The marking system will be case sensitive__"
      ]
    },
    {
      "cell_type": "code",
      "execution_count": 12,
      "id": "5b91e8e9",
      "metadata": {
        "id": "5b91e8e9",
        "outputId": "788b5732-1dd9-4d07-f1dc-18e4a29b532a",
        "colab": {
          "base_uri": "https://localhost:8080/",
          "height": 73
        }
      },
      "outputs": [
        {
          "name": "stdout",
          "output_type": "stream",
          "text": [
            "Please, enter your name: Jane\n"
          ]
        },
        {
          "output_type": "error",
          "ename": "AssertionError",
          "evalue": "❌ \u001b[91mYou are not John",
          "traceback": [
            "\u001b[0;31mAssertionError\u001b[0m\u001b[0;31m:\u001b[0m ❌ \u001b[91mYou are not John\n"
          ]
        }
      ],
      "source": [
        "name = input(\"Please, enter your name: \")\n",
        "\n",
        "# Add your code below this line\n",
        "if name == \"John\":\n",
        "  print(\"Hello, John\")\n",
        "else:\n",
        "  raise AssertionError(\"You are not John\")\n",
        "# TODO - Assert that the name is John\n",
        "  assert name == \"John\", \"You are not John\"\n",
        "# Add your code above this line\n",
        "print(\"Hello, John\")\n"
      ]
    },
    {
      "cell_type": "code",
      "execution_count": 11,
      "id": "491cc27c",
      "metadata": {
        "id": "491cc27c",
        "outputId": "b0256a00-79e3-45e4-ec1f-2b17dcada396",
        "colab": {
          "base_uri": "https://localhost:8080/"
        }
      },
      "outputs": [
        {
          "output_type": "stream",
          "name": "stdout",
          "text": [
            "\u001b[92m✔ Well done! You successfully created a simple assertion that checks if the user's name is John.\n"
          ]
        }
      ],
      "source": [
        "#@title #### Run this cell to check if your code looks good { display-mode: \"form\"}\n",
        "assert \"# Add your code below this line\" in _ih[-2], \"Before checking your code, make sure the last cell you ran contains your code. If you did, make sure you haven't deleted the comment that says '# Add your code below this line'.\"\n",
        "assert \"#@title\" not in _ih[-2], \"If you want to check your code, rerun the cell that contains your code. If you did, make sure you haven't deleted the comment that says '# Add your code below this line'.\"\n",
        "\n",
        "marking_system.check_step_1(_ih[-2])\n"
      ]
    },
    {
      "cell_type": "markdown",
      "id": "f2adb291",
      "metadata": {
        "id": "f2adb291"
      },
      "source": [
        "### 2. Test the code using the following inputs:\n",
        "\n",
        "- \"John\"\n",
        "- \"Jane\""
      ]
    },
    {
      "cell_type": "code",
      "execution_count": null,
      "id": "653d84fb",
      "metadata": {
        "id": "653d84fb"
      },
      "outputs": [],
      "source": []
    }
  ],
  "metadata": {
    "kernelspec": {
      "display_name": "content-projects",
      "language": "python",
      "name": "python3"
    },
    "language_info": {
      "codemirror_mode": {
        "name": "ipython",
        "version": 3
      },
      "file_extension": ".py",
      "mimetype": "text/x-python",
      "name": "python",
      "nbconvert_exporter": "python",
      "pygments_lexer": "ipython3",
      "version": "3.10.8"
    },
    "colab": {
      "provenance": []
    }
  },
  "nbformat": 4,
  "nbformat_minor": 5
}