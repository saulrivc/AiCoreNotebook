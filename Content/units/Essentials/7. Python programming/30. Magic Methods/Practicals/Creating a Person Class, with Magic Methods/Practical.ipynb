{
  "cells": [
    {
      "cell_type": "markdown",
      "metadata": {
        "id": "wOnKAY3tKvzD"
      },
      "source": [
        "# Create a `Person` Class"
      ]
    },
    {
      "cell_type": "markdown",
      "metadata": {
        "id": "yAAId19IKvzG"
      },
      "source": [
        "### 1. Create a class called `Person`, then define it's constructor (the `__init__` method)\n",
        "It must take in the following class attributes:\n",
        "- `name`\n",
        "- `date_of_birth`\n",
        "- `friends`\n",
        "\n",
        "Be careful, don't use a default argument for `friends`! This will cause problems whenever you initialise a new instance of the class. To know more about, take a look at this [link](https://stackoverflow.com/questions/19497879/using-a-empty-list-as-default-parameter-in-init-why-the-list-in-all-instanc)."
      ]
    },
    {
      "cell_type": "code",
      "execution_count": null,
      "metadata": {
        "id": "T48kwnDKKvzG"
      },
      "outputs": [],
      "source": [
        "# TODO - Create a class called `Person`, then define it's constructor (the `__init__` method)\n",
        "class Person:\n",
        "    def __init__(self, name, date_of_birth, friends=[]):\n",
        "        self.name = name\n",
        "        self.date_of_birth = date_of_birth\n",
        "        self.friends = friends\n"
      ]
    },
    {
      "cell_type": "markdown",
      "metadata": {
        "id": "1yGlqB0xKvzH"
      },
      "source": [
        "### 2. Instantiate your class and test that it works before continuing. Do this for every section going forward"
      ]
    },
    {
      "cell_type": "code",
      "execution_count": 8,
      "metadata": {
        "id": "gsD7HIINKvzI",
        "outputId": "3362a97b-7454-4481-d33a-9f2be9f7d622",
        "colab": {
          "base_uri": "https://localhost:8080/"
        }
      },
      "outputs": [
        {
          "output_type": "stream",
          "name": "stdout",
          "text": [
            "Will\n",
            "1997-04-03\n",
            "[2]\n"
          ]
        }
      ],
      "source": [
        "# TODO - instantiate your class\n",
        "\n",
        "Will = Person(name=\"Will\", date_of_birth=\"1997-04-03\", friends=[2],)\n",
        "\n",
        "print(Will.name)\n",
        "print(Will.date_of_birth)\n",
        "print(Will.friends)\n",
        "\n"
      ]
    },
    {
      "cell_type": "markdown",
      "metadata": {
        "id": "iXout_xsKvzJ"
      },
      "source": [
        "### 3. Go back to the block with your class definition, then define the `__str__` magic method\n",
        "When called, this method should return a string representation of the person, outputting their name, date of birth and number of friends.\n",
        "\n",
        "Test it by printing the instance of your class in the below code block."
      ]
    },
    {
      "cell_type": "code",
      "execution_count": 5,
      "metadata": {
        "id": "sA8x-bTLKvzJ"
      },
      "outputs": [],
      "source": [
        "# TODO - test your __str__ method with a print statement\n",
        "\n",
        "def __str__(self):\n",
        "    return f\"{self.name} is born on {self.date_of_birth} and has {len(self.friends)} friends.\""
      ]
    },
    {
      "cell_type": "markdown",
      "metadata": {
        "id": "HhewDtmNKvzJ"
      },
      "source": [
        "### 4. Now define the `__gt__` magic method\n",
        "This method should determine what happens when you use the greater than sign (>) to compare the age of two people. The output should be a print statement saying which person is older.\n",
        "\n",
        "Hint: you will need to import and use the `datetime` module to compare the dates of birth of the two people.\n",
        "\n",
        "Test it out by creating a second instance of the class for a second person, and then comparing that to the first with a greater than sign, then outputting the result, as follows:\n",
        "```python\n",
        "result = person_1 > person_2\n",
        "result\n",
        "```"
      ]
    },
    {
      "cell_type": "code",
      "execution_count": 10,
      "metadata": {
        "id": "CNv5je23KvzK"
      },
      "outputs": [],
      "source": [
        "# TODO - test your __gt__ method\n",
        "from datetime import datetime\n",
        "\n",
        "def __gt__(self, other):\n",
        "    if self.date_of_birth > other.date_of_birth:\n",
        "        return f\"{self.name} is older than {other.name}.\""
      ]
    },
    {
      "cell_type": "markdown",
      "metadata": {
        "id": "tZscVw2BKvzK"
      },
      "source": [
        "### 5. Create a method called `add_friend`\n",
        "This method should take in another instance of the `person` class and add it to this instance's friends attribute. Assume that every relationship goes both ways: this method should append each friend to the other's list, in just one call.\n",
        "\n",
        "Test your `add_friend` method in the below cell."
      ]
    },
    {
      "cell_type": "code",
      "execution_count": 11,
      "metadata": {
        "id": "jV6urVpIKvzL"
      },
      "outputs": [],
      "source": [
        "# TODO - Test your `add_friend` method\n",
        "def add_friend(self, other):\n",
        "    self.friends.append(other)\n",
        "    other.friends.append(self)\n"
      ]
    }
  ],
  "metadata": {
    "kernelspec": {
      "display_name": "base",
      "language": "python",
      "name": "python3"
    },
    "language_info": {
      "codemirror_mode": {
        "name": "ipython",
        "version": 3
      },
      "file_extension": ".py",
      "mimetype": "text/x-python",
      "name": "python",
      "nbconvert_exporter": "python",
      "pygments_lexer": "ipython3",
      "version": "3.9.13"
    },
    "colab": {
      "provenance": []
    }
  },
  "nbformat": 4,
  "nbformat_minor": 0
}