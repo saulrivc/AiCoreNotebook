{
  "cells": [
    {
      "cell_type": "markdown",
      "id": "6d8086c5",
      "metadata": {
        "id": "6d8086c5"
      },
      "source": [
        "# Flight Safety Checker"
      ]
    },
    {
      "cell_type": "markdown",
      "id": "85b8aef7",
      "metadata": {
        "id": "85b8aef7"
      },
      "source": [
        "Given 2 variables, `altitude` (ft) and `airspeed` (knots)\n",
        "\n",
        "### 1. Write a program that categorises entries into 'safe flying' and 'unsafe flying' based on the following criteria:\n",
        "   - An `altitude` below 100ft or above 50000ft is considered unsafe flying\n",
        "   - An `airspeed` below 60 knots or above 500 knots is considered unsafe flying\n",
        "   - If `altitude` and `airspeed` are outside these ranges, the flight is considered as safe\n",
        "   \n",
        "*CLUE: You will have to figure out the syntax for using `and`/`or` keywords in `if` statements*\n",
        "\n",
        "<p style=\"font-size: 14px; color: #999999; margin-top: 0px; margin-bottom: 0px;\">This practical doesn't have a marking system because there are many ways to tackle this issue</p>"
      ]
    },
    {
      "cell_type": "code",
      "execution_count": 4,
      "id": "ad3c42c9",
      "metadata": {
        "id": "ad3c42c9",
        "outputId": "251a50da-e03e-4097-ef41-02306641f347",
        "colab": {
          "base_uri": "https://localhost:8080/"
        }
      },
      "outputs": [
        {
          "output_type": "stream",
          "name": "stdout",
          "text": [
            "safe flying\n"
          ]
        }
      ],
      "source": [
        "# TODO - Create a variable called altitude and set it to a value in ft\n",
        "# TODO - Create a variable called airspeed and set it to a value in knots\n",
        "\n",
        "altitude = 26000\n",
        "airspeed = 300\n",
        "\n",
        "# TODO - Create the if/else statement to check if the altitude is within the safe range\n",
        "\n",
        "if altitude < 100 or altitude > 50000:\n",
        "    print(\"unsafe flying\")\n",
        "elif airspeed < 60 or airspeed > 500:\n",
        "    print(\"unsafe flying\")\n",
        "else:\n",
        "    print(\"safe flying\")\n"
      ]
    },
    {
      "cell_type": "markdown",
      "id": "a42d9e5f",
      "metadata": {
        "id": "a42d9e5f"
      },
      "source": [
        "### 2. Try to write this as cleanly as possible and test your code with the following by substituting in again:\n",
        "\n",
        "- Altitude: 25000ft, Airspeed: 300 knots\n",
        "- Altitude: 50001ft, Airspeed: 250 knots\n",
        "- Altitude: 90ft, Airspeed: 125 knots"
      ]
    },
    {
      "cell_type": "code",
      "execution_count": 5,
      "id": "30ef543d",
      "metadata": {
        "id": "30ef543d",
        "outputId": "7891c29f-2494-4f0a-ea32-14899ff78f15",
        "colab": {
          "base_uri": "https://localhost:8080/"
        }
      },
      "outputs": [
        {
          "output_type": "stream",
          "name": "stdout",
          "text": [
            "safe flying\n",
            "unsafe flying\n",
            "unsafe flying\n"
          ]
        }
      ],
      "source": [
        "altitude = 25000\n",
        "airspeed = 300\n",
        "\n",
        "if altitude < 100 or altitude > 50000 or airspeed < 60 or airspeed > 500:\n",
        "    print(\"unsafe flying\")\n",
        "else:\n",
        "    print(\"safe flying\")\n",
        "\n",
        "altitude = 50001\n",
        "airspeed = 250\n",
        "\n",
        "if altitude < 100 or altitude > 50000 or airspeed < 60 or airspeed > 500:\n",
        "    print(\"unsafe flying\")\n",
        "else:\n",
        "    print(\"safe flying\")\n",
        "\n",
        "altitude = 90\n",
        "airspeed = 125\n",
        "\n",
        "if altitude < 100 or altitude > 50000 or airspeed < 60 or airspeed > 500:\n",
        "    print(\"unsafe flying\")"
      ]
    },
    {
      "cell_type": "code",
      "source": [],
      "metadata": {
        "id": "ZxFB2ydKM1vH"
      },
      "id": "ZxFB2ydKM1vH",
      "execution_count": null,
      "outputs": []
    }
  ],
  "metadata": {
    "kernelspec": {
      "display_name": "content-projects_new",
      "language": "python",
      "name": "python3"
    },
    "language_info": {
      "codemirror_mode": {
        "name": "ipython",
        "version": 3
      },
      "file_extension": ".py",
      "mimetype": "text/x-python",
      "name": "python",
      "nbconvert_exporter": "python",
      "pygments_lexer": "ipython3",
      "version": "3.10.8"
    },
    "vscode": {
      "interpreter": {
        "hash": "4b961f8166aad6ccb4cf65d0f9c742ef9c6c23ffe83ad932438cd83ed96aebaf"
      }
    },
    "colab": {
      "provenance": []
    }
  },
  "nbformat": 4,
  "nbformat_minor": 5
}