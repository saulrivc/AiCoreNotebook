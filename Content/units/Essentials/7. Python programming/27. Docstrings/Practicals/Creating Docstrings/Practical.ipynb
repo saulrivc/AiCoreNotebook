{
  "cells": [
    {
      "cell_type": "markdown",
      "metadata": {
        "id": "878F6NKbvGu3"
      },
      "source": [
        "# Add Docstrings to a Class"
      ]
    },
    {
      "cell_type": "markdown",
      "metadata": {
        "id": "bxi8gwcYvGu5"
      },
      "source": [
        "Add docstrings to the below class and methods"
      ]
    },
    {
      "cell_type": "code",
      "execution_count": 9,
      "metadata": {
        "id": "h9W-utbtvGu5",
        "outputId": "6a869575-e3f2-409e-a2b4-847f1681bb56",
        "colab": {
          "base_uri": "https://localhost:8080/"
        }
      },
      "outputs": [
        {
          "output_type": "stream",
          "name": "stdout",
          "text": [
            "\n",
            "    Represents a temperature in degrees Celsius.\n",
            "    \n",
            "\n",
            "        Converts the temperature from Celsius to Fahrenheit.\n",
            "\n",
            "        Returns:\n",
            "            float: The temperature in degrees Fahrenheit.\n",
            "        \n",
            "\n",
            "        Converts a temperature in Fahrenheit to Celsius.\n",
            "\n",
            "        Args:\n",
            "            temp_fah (float): The temperature in degrees Fahrenheit.\n",
            "\n",
            "        Returns:\n",
            "            float: The temperature in degrees Celsius.\n",
            "        \n",
            "\n",
            "        Checks if a given temperature is valid.\n",
            "\n",
            "        Args:\n",
            "            temp (float): The temperature to check.\n",
            "\n",
            "        Returns:\n",
            "            bool: True if the temperature is valid, False otherwise.\n",
            "        \n",
            "\n",
            "        Creates a Temperature object from a given temperature in Fahrenheit.\n",
            "\n",
            "        Args:\n",
            "            temperature (float): The temperature in degrees Fahrenheit.\n",
            "\n",
            "        Returns:\n",
            "            Temperature: A Temperature object with the converted temperature.\n",
            "        \n",
            "\n",
            "        Creates a standard Temperature object with a temperature of 0 degrees Celsius.\n",
            "\n",
            "        Returns:\n",
            "            Temperature: A standard Temperature object.\n",
            "        \n",
            "\n",
            "        Returns a string representation of the Temperature object.\n",
            "\n",
            "        Returns:\n",
            "            str: A string representation of the temperature in degrees Celsius.\n",
            "        \n"
          ]
        }
      ],
      "source": [
        "class Temperature:\n",
        "    \"\"\"\n",
        "    Represents a temperature in degrees Celsius.\n",
        "    \"\"\"\n",
        "\n",
        "    def __init__(self, temp_celsius):\n",
        "        \"\"\"\n",
        "        Initializes a Temperature object with a given temperature in Celsius.\n",
        "\n",
        "        Args:\n",
        "            temp_celsius (float): The temperature in degrees Celsius.\n",
        "        \"\"\"\n",
        "\n",
        "        self.temp_celsius = temp_celsius\n",
        "\n",
        "    def convert_temp_to_fahrenheit(self):\n",
        "        \"\"\"\n",
        "        Converts the temperature from Celsius to Fahrenheit.\n",
        "\n",
        "        Returns:\n",
        "            float: The temperature in degrees Fahrenheit.\n",
        "        \"\"\"\n",
        "        return (self.temp_celsius * 1.8) + 32\n",
        "\n",
        "    @staticmethod\n",
        "    def convert_fahrenheit_to_cel(temp_fah):\n",
        "        \"\"\"\n",
        "        Converts a temperature in Fahrenheit to Celsius.\n",
        "\n",
        "        Args:\n",
        "            temp_fah (float): The temperature in degrees Fahrenheit.\n",
        "\n",
        "        Returns:\n",
        "            float: The temperature in degrees Celsius.\n",
        "        \"\"\"\n",
        "        return (temp_fah - 32) * 1.8\n",
        "\n",
        "    @staticmethod\n",
        "    def check_valid_temp(temp):\n",
        "        \"\"\"\n",
        "        Checks if a given temperature is valid.\n",
        "\n",
        "        Args:\n",
        "            temp (float): The temperature to check.\n",
        "\n",
        "        Returns:\n",
        "            bool: True if the temperature is valid, False otherwise.\n",
        "        \"\"\"\n",
        "        if -273 <= temp <= 3000:\n",
        "            print(\"This is a valid temperature\")\n",
        "\n",
        "    @classmethod\n",
        "    def create_with_fahrenheit(cls, temperature):\n",
        "        \"\"\"\n",
        "        Creates a Temperature object from a given temperature in Fahrenheit.\n",
        "\n",
        "        Args:\n",
        "            temperature (float): The temperature in degrees Fahrenheit.\n",
        "\n",
        "        Returns:\n",
        "            Temperature: A Temperature object with the converted temperature.\n",
        "        \"\"\"\n",
        "        return cls(Temperature.convert_fahrenheit_to_cel(temperature))\n",
        "\n",
        "    @classmethod\n",
        "    def standard(cls):\n",
        "        \"\"\"\n",
        "        Creates a standard Temperature object with a temperature of 0 degrees Celsius.\n",
        "\n",
        "        Returns:\n",
        "            Temperature: A standard Temperature object.\n",
        "        \"\"\"\n",
        "        return cls(0)\n",
        "\n",
        "    def __repr__(self) -> str:\n",
        "        \"\"\"\n",
        "        Returns a string representation of the Temperature object.\n",
        "\n",
        "        Returns:\n",
        "            str: A string representation of the temperature in degrees Celsius.\n",
        "        \"\"\"\n",
        "        temp = str(self.temp_celsius)\n",
        "        return temp\n",
        "\n",
        "\n",
        "print(Temperature.__doc__)\n",
        "print(Temperature.convert_temp_to_fahrenheit.__doc__)\n",
        "print(Temperature.convert_fahrenheit_to_cel.__doc__)\n",
        "print(Temperature.check_valid_temp.__doc__)\n",
        "print(Temperature.create_with_fahrenheit.__doc__)\n",
        "print(Temperature.standard.__doc__)\n",
        "print(Temperature.__repr__.__doc__)\n"
      ]
    },
    {
      "cell_type": "code",
      "source": [],
      "metadata": {
        "id": "TSJoGWMSviQR"
      },
      "execution_count": null,
      "outputs": []
    }
  ],
  "metadata": {
    "language_info": {
      "name": "python"
    },
    "colab": {
      "provenance": []
    },
    "kernelspec": {
      "name": "python3",
      "display_name": "Python 3"
    }
  },
  "nbformat": 4,
  "nbformat_minor": 0
}