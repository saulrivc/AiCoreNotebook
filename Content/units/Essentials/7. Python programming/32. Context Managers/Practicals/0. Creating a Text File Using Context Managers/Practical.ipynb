{
  "cells": [
    {
      "cell_type": "markdown",
      "metadata": {
        "id": "l5akp8M2qiuk"
      },
      "source": [
        "# Creating a Text File Using Context Managers"
      ]
    },
    {
      "cell_type": "markdown",
      "metadata": {
        "id": "pN1YvQ8Rqiul"
      },
      "source": [
        "Create a context manager that opens a file called `test.txt` in write mode and writes the message \"Hello, I am a context manager!\" to the file."
      ]
    },
    {
      "cell_type": "code",
      "execution_count": 1,
      "metadata": {
        "id": "mJMwK8wgqiul"
      },
      "outputs": [],
      "source": [
        "# TODO: Create a context manager that opens a file called `test.txt` in write mode and writes the message \"Hello, I am a context manager!\" to the file.\n",
        "file = open(\"test.txt\", \"w\")\n",
        "file.write(\"Hello, I am a context manager!\")\n",
        "file.close()"
      ]
    },
    {
      "cell_type": "markdown",
      "metadata": {
        "id": "Mp0VeuiYqiul"
      },
      "source": [
        "Now use a context manager to read the file you just saved into a variable called `my_string`, and print it out:"
      ]
    },
    {
      "cell_type": "code",
      "execution_count": 2,
      "metadata": {
        "id": "P2ioYt8Oqiul",
        "outputId": "c261ed47-d4b3-4718-c513-47c537aa2b4d",
        "colab": {
          "base_uri": "https://localhost:8080/"
        }
      },
      "outputs": [
        {
          "output_type": "stream",
          "name": "stdout",
          "text": [
            "Hello, I am a context manager!\n"
          ]
        }
      ],
      "source": [
        "# TODO: Create a context manager that opens a file called `test.txt` in read mode and reads the contents of the file into a variable called `my_string`.\n",
        "# TODO: Print `my_string `\n",
        "with open(\"test.txt\", \"r\") as file:\n",
        "    my_string = file.read()\n",
        "    print(my_string)\n"
      ]
    }
  ],
  "metadata": {
    "language_info": {
      "name": "python"
    },
    "colab": {
      "provenance": []
    },
    "kernelspec": {
      "name": "python3",
      "display_name": "Python 3"
    }
  },
  "nbformat": 4,
  "nbformat_minor": 0
}