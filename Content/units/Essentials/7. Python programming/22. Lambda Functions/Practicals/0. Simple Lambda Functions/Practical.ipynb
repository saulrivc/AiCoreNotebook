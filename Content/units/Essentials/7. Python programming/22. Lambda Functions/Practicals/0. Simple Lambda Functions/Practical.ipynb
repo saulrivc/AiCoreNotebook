{
  "cells": [
    {
      "cell_type": "markdown",
      "metadata": {
        "id": "aCLMzN_bIPl_"
      },
      "source": [
        "# Simple Lambda Functions"
      ]
    },
    {
      "cell_type": "code",
      "execution_count": 1,
      "metadata": {
        "id": "cb645efb",
        "outputId": "78973a98-6610-4ab4-bf01-9da625579718",
        "colab": {
          "base_uri": "https://localhost:8080/"
        }
      },
      "outputs": [
        {
          "output_type": "stream",
          "name": "stdout",
          "text": [
            "Downloading the marking system\n"
          ]
        }
      ],
      "source": [
        "#@title ### Run the following cell to download the necessary files for this practical { display-mode: \"form\" }\n",
        "#@markdown Don't worry about what's in this collapsed cell\n",
        "\n",
        "print('Downloading the marking system')\n",
        "!wget https://s3-eu-west-1.amazonaws.com/aicore-portal-public-prod-307050600709/practical_files/d81080cb-2094-44b1-9f74-061559c7403b/marking_system.py -q -O marking_system.py\n",
        "import marking_system\n",
        "import importlib\n",
        "importlib.reload(marking_system)\n",
        "import sys\n",
        "ipython = get_ipython()\n",
        "def hide_traceback(exc_tuple=None, filename=None, tb_offset=None, exception_only=False, running_compiled_code=False):\n",
        "    etype, value, tb = sys.exc_info()\n",
        "    value.__cause__ = None  # suppress chained exceptions\n",
        "    return ipython._showtraceback(etype, \"❌ \" + f\"\u001b[91m{value}\", ipython.InteractiveTB.get_exception_only(etype, \"❌ \" + f\"\u001b[91m{value}\"))\n",
        "ipython.showtraceback = hide_traceback\n"
      ]
    },
    {
      "cell_type": "markdown",
      "metadata": {
        "id": "etsFCpF8IPmA"
      },
      "source": [
        "### Create the following Lambda functions"
      ]
    },
    {
      "cell_type": "markdown",
      "metadata": {
        "id": "zvzxMDqVIPmA"
      },
      "source": [
        "### 1. A lambda function named `square` that takes in a number and returns that number squared"
      ]
    },
    {
      "cell_type": "code",
      "execution_count": 2,
      "metadata": {
        "id": "qfy05iEJIPmA"
      },
      "outputs": [],
      "source": [
        "# TODO: A lambda function named `square` that takes in a number and returns that number squared\n",
        "\n",
        "def square(x):\n",
        "  return x**2\n"
      ]
    },
    {
      "cell_type": "code",
      "execution_count": 3,
      "metadata": {
        "id": "MgGH5A0cIPmB",
        "outputId": "612074e2-94fa-43fd-d13f-2b36f3a3fc87",
        "colab": {
          "base_uri": "https://localhost:8080/"
        }
      },
      "outputs": [
        {
          "output_type": "stream",
          "name": "stdout",
          "text": [
            "\u001b[92m✔ Well done!\n"
          ]
        }
      ],
      "source": [
        "#@title #### Run this cell to check your solution { display-mode: \"form\", run: \"auto\" }\n",
        "\n",
        "assert \"square\" in globals(), \"You haven't defined the function 'square'.\"\n",
        "assert callable(square), \"'square' should be a function. Please, try again.\"\n",
        "assert square.__code__.co_argcount == 1, \"'square' should take 1 parameter. Please, try again.\"\n",
        "\n",
        "marking_system.check_step_1(square)\n"
      ]
    },
    {
      "cell_type": "markdown",
      "metadata": {
        "id": "XwaGjPvNIPmB"
      },
      "source": [
        "### 2. A lambda function named `cube` that takes in a number and returns that number cubed"
      ]
    },
    {
      "cell_type": "code",
      "execution_count": 4,
      "metadata": {
        "id": "Ryq01NXMIPmB"
      },
      "outputs": [],
      "source": [
        "# TODO: A lambda function named `cube` that takes in a number and returns that number cubed\n",
        "\n",
        "def cube(x):\n",
        "  return x**3\n"
      ]
    },
    {
      "cell_type": "code",
      "execution_count": 5,
      "metadata": {
        "id": "pRP540d-IPmB",
        "outputId": "7852bd48-b562-458f-d1dc-cce9a66e7839",
        "colab": {
          "base_uri": "https://localhost:8080/"
        }
      },
      "outputs": [
        {
          "output_type": "stream",
          "name": "stdout",
          "text": [
            "\u001b[92m✔ Well done!\n"
          ]
        }
      ],
      "source": [
        "#@title #### Run this cell to check your solution { display-mode: \"form\", run: \"auto\" }\n",
        "\n",
        "assert \"cube\" in globals(), \"You haven't defined the function 'cube'.\"\n",
        "assert callable(cube), \"'cube' should be a function. Please, try again.\"\n",
        "assert cube.__code__.co_argcount == 1, \"'cube' should take 1 parameter. Please, try again.\"\n",
        "\n",
        "marking_system.check_step_2(cube)\n"
      ]
    },
    {
      "cell_type": "markdown",
      "metadata": {
        "id": "xglXIxdbIPmB"
      },
      "source": [
        "### 3. A lambda function named `add` that takes two numbers and returns the sum of those numbers"
      ]
    },
    {
      "cell_type": "code",
      "execution_count": 6,
      "metadata": {
        "id": "J3j1YTH9IPmB"
      },
      "outputs": [],
      "source": [
        "# TODO: A lambda function named `add` that takes two numbers and returns the sum of those numbers\n",
        "\n",
        "def add(x,y):\n",
        "  return x+y\n"
      ]
    },
    {
      "cell_type": "code",
      "execution_count": 7,
      "metadata": {
        "id": "tGDr4AWmIPmB",
        "outputId": "f9869f47-e432-437a-8007-6ea31e865288",
        "colab": {
          "base_uri": "https://localhost:8080/"
        }
      },
      "outputs": [
        {
          "output_type": "stream",
          "name": "stdout",
          "text": [
            "\u001b[92m✔ Well done!\n"
          ]
        }
      ],
      "source": [
        "#@title #### Run this cell to check your solution { display-mode: \"form\", run: \"auto\" }\n",
        "\n",
        "assert \"add\" in globals(), \"You haven't defined the function 'add'.\"\n",
        "assert callable(add), \"'add' should be a function. Please, try again.\"\n",
        "assert add.__code__.co_argcount == 2, \"'add' should take 2 parameters. Please, try again.\"\n",
        "\n",
        "marking_system.check_step_3(add)\n"
      ]
    },
    {
      "cell_type": "markdown",
      "metadata": {
        "id": "X3l6BYX6IPmB"
      },
      "source": [
        "### 4. A lambda function named `multiply` that takes two numbers and returns the product of those numbers"
      ]
    },
    {
      "cell_type": "code",
      "execution_count": 8,
      "metadata": {
        "id": "7aR8xxQGIPmB"
      },
      "outputs": [],
      "source": [
        "# TODO: A lambda function named `multiply` that takes two numbers and returns the product of those numbers\n",
        "\n",
        "def multiply(x,y):\n",
        "  return x*y\n"
      ]
    },
    {
      "cell_type": "code",
      "execution_count": 9,
      "metadata": {
        "id": "0XttHBwxIPmB",
        "outputId": "30eeb58d-d962-44b2-ac83-6bf773b5e393",
        "colab": {
          "base_uri": "https://localhost:8080/"
        }
      },
      "outputs": [
        {
          "output_type": "stream",
          "name": "stdout",
          "text": [
            "\u001b[92m✔ Well done!\n"
          ]
        }
      ],
      "source": [
        "#@title #### Run this cell to check your solution { display-mode: \"form\", run: \"auto\" }\n",
        "\n",
        "assert \"multiply\" in globals(), \"You haven't defined the function 'multiply'.\"\n",
        "assert callable(multiply), \"'multiply' should be a function. Please, try again.\"\n",
        "assert multiply.__code__.co_argcount == 2, \"'multiply' should take 2 parameters. Please, try again.\"\n",
        "\n",
        "marking_system.check_step_4(multiply)\n"
      ]
    }
  ],
  "metadata": {
    "kernelspec": {
      "display_name": "Python 3",
      "language": "python",
      "name": "python3"
    },
    "language_info": {
      "codemirror_mode": {
        "name": "ipython",
        "version": 3
      },
      "file_extension": ".py",
      "mimetype": "text/x-python",
      "name": "python",
      "nbconvert_exporter": "python",
      "pygments_lexer": "ipython3",
      "version": "3.10.6"
    },
    "colab": {
      "provenance": []
    }
  },
  "nbformat": 4,
  "nbformat_minor": 0
}