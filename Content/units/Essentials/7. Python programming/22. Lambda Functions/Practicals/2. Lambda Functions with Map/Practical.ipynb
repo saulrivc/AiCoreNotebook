{
  "cells": [
    {
      "cell_type": "markdown",
      "metadata": {
        "id": "jiqBVlMaI4zu"
      },
      "source": [
        "# Lambda Functions with Map"
      ]
    },
    {
      "cell_type": "code",
      "execution_count": 1,
      "metadata": {
        "id": "9c8b7431",
        "outputId": "a4ddec4e-0026-4ffa-d3dc-c6d5077ba166",
        "colab": {
          "base_uri": "https://localhost:8080/"
        }
      },
      "outputs": [
        {
          "output_type": "stream",
          "name": "stdout",
          "text": [
            "Downloading the marking system\n"
          ]
        }
      ],
      "source": [
        "#@title ### Run the following cell to download the necessary files for this practical { display-mode: \"form\" }\n",
        "#@markdown Don't worry about what's in this collapsed cell\n",
        "\n",
        "print('Downloading the marking system')\n",
        "!wget https://s3-eu-west-1.amazonaws.com/aicore-portal-public-prod-307050600709/practical_files/efdede0a-7c39-4671-b553-f612aa853466/marking_system.py -q -O marking_system.py\n",
        "import marking_system\n",
        "import importlib\n",
        "importlib.reload(marking_system)\n",
        "import sys\n",
        "ipython = get_ipython()\n",
        "def hide_traceback(exc_tuple=None, filename=None, tb_offset=None, exception_only=False, running_compiled_code=False):\n",
        "    etype, value, tb = sys.exc_info()\n",
        "    value.__cause__ = None  # suppress chained exceptions\n",
        "    return ipython._showtraceback(etype, \"❌ \" + f\"\u001b[91m{value}\", ipython.InteractiveTB.get_exception_only(etype, \"❌ \" + f\"\u001b[91m{value}\"))\n",
        "ipython.showtraceback = hide_traceback\n"
      ]
    },
    {
      "cell_type": "markdown",
      "metadata": {
        "id": "Ka_Hqg4jI4z2"
      },
      "source": [
        "### 1. Create a list of 5 numbers formatted as integers named `numbers`"
      ]
    },
    {
      "cell_type": "code",
      "execution_count": 17,
      "metadata": {
        "id": "2eHIjHajI4z2"
      },
      "outputs": [],
      "source": [
        "# TODO: Create a list of 5 numbers formatted as integers named `numbers`\n",
        "\n",
        "numbers = [1,2,3,4,5]\n",
        "\n"
      ]
    },
    {
      "cell_type": "code",
      "execution_count": 18,
      "metadata": {
        "id": "kODqFHghI4z2",
        "outputId": "9775bf5d-6342-4731-c632-8333de693c8a",
        "colab": {
          "base_uri": "https://localhost:8080/"
        }
      },
      "outputs": [
        {
          "output_type": "stream",
          "name": "stdout",
          "text": [
            "\u001b[92m✔ Well done! You initialised the data correctly.\n"
          ]
        }
      ],
      "source": [
        "#@title #### Run this cell to check your solution { display-mode: \"form\", run: \"auto\" }\n",
        "\n",
        "assert \"numbers\" in globals(), \"You need to initialise the list named 'numbers'\"\n",
        "assert len(numbers) == 5, \"The list should contain 5 integers\"\n",
        "assert all(type(num)==int for num in numbers), \"The list should only contain integers\"\n",
        "\n",
        "print(\n",
        "        \"\\033[92m\\N{heavy check mark} Well done! \"\n",
        "        \"You initialised the data correctly.\")\n"
      ]
    },
    {
      "cell_type": "markdown",
      "metadata": {
        "id": "2MyM2QM2I4z2"
      },
      "source": [
        "### 2. Create a lambda function named `square` that squares a number. Then use `map` to square each number in the list into a new list `numbers` called `squared_numbers`."
      ]
    },
    {
      "cell_type": "code",
      "execution_count": 21,
      "metadata": {
        "id": "piKcvw3iI4z3"
      },
      "outputs": [],
      "source": [
        "# TODO: Create a lambda function named `square` that squares a number. Then use `map` to square each number in the list into a new list `numbers` called `squared_numbers`\n",
        "\n",
        "square = lambda x: x**2\n",
        "\n",
        "squared_numbers = list(map(square, numbers))"
      ]
    },
    {
      "cell_type": "code",
      "execution_count": 22,
      "metadata": {
        "id": "Bx0EFyUmI4z3",
        "outputId": "4effde5b-0115-494c-8b30-38aed8fd17ee",
        "colab": {
          "base_uri": "https://localhost:8080/"
        }
      },
      "outputs": [
        {
          "output_type": "stream",
          "name": "stdout",
          "text": [
            "\u001b[92m✔ Well done!\n"
          ]
        }
      ],
      "source": [
        "#@title #### Run this cell to check your solution { display-mode: \"form\", run: \"auto\" }\n",
        "\n",
        "assert \"squared_numbers\" in globals(), \"You haven't defined the list 'squared_numbers'\"\n",
        "assert \"square\" in globals(), \"You haven't defined the function 'square'.\"\n",
        "assert callable(square), \"'square' should be a function. Please, try again.\"\n",
        "assert square.__code__.co_argcount == 1, \"'square' should take 1 parameter. Please, try again.\"\n",
        "\n",
        "marking_system.check_step_1(square, numbers, squared_numbers)\n"
      ]
    },
    {
      "cell_type": "markdown",
      "metadata": {
        "id": "-POsQOZHI4z3"
      },
      "source": [
        "### 3. Create a lambda function named `cube` that cubes a number. Then use `map` to cube each number in the list `numbers` into a new list called `cubed_numbers`."
      ]
    },
    {
      "cell_type": "code",
      "execution_count": 23,
      "metadata": {
        "id": "WAGBEdd9I4z3"
      },
      "outputs": [],
      "source": [
        "# TODO: Create a lambda function named `cube` that cubes a number. Then use `map` to cube each number in the list `numbers` into a new list called `cubed_numbers`\n",
        "\n",
        "def cube(x):\n",
        "  return x**3\n",
        "\n",
        "cubed_numbers = list(map(cube, numbers))\n"
      ]
    },
    {
      "cell_type": "code",
      "execution_count": 24,
      "metadata": {
        "id": "JV-AN0m_I4z3",
        "outputId": "63d0b94f-c5b5-4705-8f0a-e0b42a5c8c77",
        "colab": {
          "base_uri": "https://localhost:8080/"
        }
      },
      "outputs": [
        {
          "output_type": "stream",
          "name": "stdout",
          "text": [
            "\u001b[92m✔ Well done!\n"
          ]
        }
      ],
      "source": [
        "#@title #### Run this cell to check your solution { display-mode: \"form\", run: \"auto\" }\n",
        "\n",
        "assert \"cubed_numbers\" in globals(), \"You haven't defined the list 'cubed_numbers'\"\n",
        "assert \"cube\" in globals(), \"You haven't defined the function 'cube'.\"\n",
        "assert callable(cube), \"'cube' should be a function. Please, try again.\"\n",
        "assert cube.__code__.co_argcount == 1, \"'cube' should take 1 parameter. Please, try again.\"\n",
        "\n",
        "marking_system.check_step_2(cube, numbers, cubed_numbers)\n"
      ]
    },
    {
      "cell_type": "markdown",
      "metadata": {
        "id": "nHGDShGoI4z3"
      },
      "source": [
        "### 4. Create a lambda function named `func` takes in a number and returns that number squared if it is even, and cubed if it is odd. Then use `map` to apply the function to each number in the list `numbers` into a new list called `func_numbers`."
      ]
    },
    {
      "cell_type": "code",
      "execution_count": 25,
      "metadata": {
        "id": "SdTpY6rsI4z3"
      },
      "outputs": [],
      "source": [
        "# TODO: Create a lambda function named `func` takes in a number and returns that number squared if it is even, and cubed if it is odd. Then use `map` to apply the function to each number in the list `numbers` into a new list called `func_numbers`\n",
        "\n",
        "def func(x):\n",
        "  if x % 2 == 0:\n",
        "    return x**2\n",
        "  else:\n",
        "    return x**3\n",
        "\n",
        "func_numbers = list(map(func, numbers))"
      ]
    },
    {
      "cell_type": "code",
      "execution_count": 26,
      "metadata": {
        "id": "gBWYwR-EI4z4",
        "outputId": "6e7b56b8-554a-4fa1-e074-9f8df396689d",
        "colab": {
          "base_uri": "https://localhost:8080/"
        }
      },
      "outputs": [
        {
          "output_type": "stream",
          "name": "stdout",
          "text": [
            "\u001b[92m✔ Well done!\n"
          ]
        }
      ],
      "source": [
        "#@title #### Run this cell to check your solution { display-mode: \"form\", run: \"auto\" }\n",
        "\n",
        "assert \"func_numbers\" in globals(), \"You haven't defined the list 'func_numbers'\"\n",
        "assert \"func\" in globals(), \"You haven't defined the function 'func'.\"\n",
        "assert callable(func), \"'func' should be a function. Please, try again.\"\n",
        "assert func.__code__.co_argcount == 1, \"'func' should take 1 parameter. Please, try again.\"\n",
        "\n",
        "marking_system.check_step_3(func, numbers, func_numbers)\n"
      ]
    }
  ],
  "metadata": {
    "kernelspec": {
      "display_name": "Python 3",
      "language": "python",
      "name": "python3"
    },
    "language_info": {
      "codemirror_mode": {
        "name": "ipython",
        "version": 3
      },
      "file_extension": ".py",
      "mimetype": "text/x-python",
      "name": "python",
      "nbconvert_exporter": "python",
      "pygments_lexer": "ipython3",
      "version": "3.10.12"
    },
    "colab": {
      "provenance": []
    }
  },
  "nbformat": 4,
  "nbformat_minor": 0
}