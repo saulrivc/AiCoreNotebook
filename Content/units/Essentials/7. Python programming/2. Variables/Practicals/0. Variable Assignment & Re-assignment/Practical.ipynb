{
  "cells": [
    {
      "cell_type": "markdown",
      "metadata": {
        "id": "GAXfEsivoQ7F"
      },
      "source": [
        "# Variable Naming"
      ]
    },
    {
      "cell_type": "code",
      "execution_count": 4,
      "metadata": {
        "id": "bb15e303",
        "outputId": "262771ef-946f-40b7-ce74-ed781c6a9198",
        "colab": {
          "base_uri": "https://localhost:8080/"
        }
      },
      "outputs": [
        {
          "output_type": "stream",
          "name": "stdout",
          "text": [
            "Downloading the marking system\n"
          ]
        }
      ],
      "source": [
        "#@title ### Run the following cell to download the necessary files for this practical { display-mode: \"form\" }\n",
        "#@markdown Don't worry about what's in this collapsed cell\n",
        "\n",
        "print('Downloading the marking system')\n",
        "!wget https://s3-eu-west-1.amazonaws.com/aicore-portal-public-prod-307050600709/practical_files/b1b01aef-88ef-4bf8-ab08-d5aa28b9e954/marking_system.py -q -O marking_system.py\n",
        "import marking_system\n",
        "import importlib\n",
        "importlib.reload(marking_system)\n",
        "import sys\n",
        "ipython = get_ipython()\n",
        "def hide_traceback(exc_tuple=None, filename=None, tb_offset=None, exception_only=False, running_compiled_code=False):\n",
        "    etype, value, tb = sys.exc_info()\n",
        "    value.__cause__ = None  # suppress chained exceptions\n",
        "    return ipython._showtraceback(etype, \"❌ \" + f\"\u001b[91m{value}\", ipython.InteractiveTB.get_exception_only(etype, \"❌ \" + f\"\u001b[91m{value}\"))\n",
        "ipython.showtraceback = hide_traceback\n"
      ]
    },
    {
      "cell_type": "markdown",
      "metadata": {
        "id": "JmWv7PemoQ7J"
      },
      "source": [
        "### 1: Define a variable called `my_variable` and assign it the value `23`"
      ]
    },
    {
      "cell_type": "code",
      "execution_count": 2,
      "metadata": {
        "id": "6KCvKhNJoQ7K"
      },
      "outputs": [],
      "source": [
        "# TODO: Create a variable named my_variable and set it equal to 23\n",
        "\n",
        "my_variable = 23"
      ]
    },
    {
      "cell_type": "code",
      "execution_count": 5,
      "metadata": {
        "id": "3-_7cPw9oQ7L",
        "outputId": "c691c2e6-5a53-4d1d-c98d-74bb945f0d71",
        "colab": {
          "base_uri": "https://localhost:8080/"
        }
      },
      "outputs": [
        {
          "output_type": "stream",
          "name": "stdout",
          "text": [
            "\u001b[92m✔ Well done!\n"
          ]
        }
      ],
      "source": [
        "#@title #### Run this cell to check your solution { display-mode: \"form\", run: \"auto\" }\n",
        "\n",
        "assert \"my_variable\" in globals(), \"You haven't defined the variable 'my_variable'.\"\n",
        "\n",
        "marking_system.check_step_1(my_variable)\n"
      ]
    },
    {
      "cell_type": "markdown",
      "metadata": {
        "id": "O-ZI9DtToQ7L"
      },
      "source": [
        "### 2. Print the value of `my_variable`"
      ]
    },
    {
      "cell_type": "code",
      "execution_count": 6,
      "metadata": {
        "id": "Ze8mQzXgoQ7M",
        "outputId": "9b35deea-d354-4f3a-bbda-406642760901",
        "colab": {
          "base_uri": "https://localhost:8080/"
        }
      },
      "outputs": [
        {
          "output_type": "stream",
          "name": "stdout",
          "text": [
            "23\n"
          ]
        }
      ],
      "source": [
        "# TODO: Print the value of my_variable using the print function\n",
        "\n",
        "print(my_variable)"
      ]
    },
    {
      "cell_type": "code",
      "execution_count": 7,
      "metadata": {
        "id": "rsW9kgOhoQ7M",
        "outputId": "593bbd1c-e2af-4c3a-9c2a-50fa433e2ac4",
        "colab": {
          "base_uri": "https://localhost:8080/"
        }
      },
      "outputs": [
        {
          "output_type": "stream",
          "name": "stdout",
          "text": [
            "\u001b[92m✔ Well done!\n"
          ]
        }
      ],
      "source": [
        "#@title #### Copy and paste your line of code in this form to check your solution { display-mode: \"form\", run: \"auto\" }\n",
        "\n",
        "your_code = \"print(my_variable)\" #@param {type:\"string\"}\n",
        "marking_system.check_step_2(your_code=your_code)\n"
      ]
    },
    {
      "cell_type": "markdown",
      "metadata": {
        "id": "9afjMmEaoQ7N"
      },
      "source": [
        "### 3. Write a new line of code that reassigns `my_variable` to have the value `98`"
      ]
    },
    {
      "cell_type": "code",
      "execution_count": 9,
      "metadata": {
        "id": "WeeBMV-CoQ7N"
      },
      "outputs": [],
      "source": [
        "# TODO: Create a variable named my_variable and set it equal to 98\n",
        "\n",
        "my_variable = 98"
      ]
    },
    {
      "cell_type": "code",
      "execution_count": 10,
      "metadata": {
        "id": "_URqmHchoQ7O",
        "outputId": "8882f08f-14c0-4074-c563-472ff10dba74",
        "colab": {
          "base_uri": "https://localhost:8080/"
        }
      },
      "outputs": [
        {
          "output_type": "stream",
          "name": "stdout",
          "text": [
            "\u001b[92m✔ Well done!\n"
          ]
        }
      ],
      "source": [
        "#@title #### Run this cell to check your solution { display-mode: \"form\", run: \"auto\" }\n",
        "\n",
        "assert \"my_variable\" in globals(), \"You haven't defined the variable 'my_variable'.\"\n",
        "\n",
        "marking_system.check_step_3(my_variable)\n"
      ]
    },
    {
      "cell_type": "markdown",
      "metadata": {
        "id": "AnrjeZj1oQ7O"
      },
      "source": [
        "### 4. Print the value of `my_variable` again\n",
        "\n",
        "_Notice that the value of `my_variable` has changed._"
      ]
    },
    {
      "cell_type": "code",
      "execution_count": 11,
      "metadata": {
        "id": "-gNbrmz7oQ7O",
        "outputId": "c46911e2-9168-4047-a7e2-da3d9fd237c6",
        "colab": {
          "base_uri": "https://localhost:8080/"
        }
      },
      "outputs": [
        {
          "output_type": "stream",
          "name": "stdout",
          "text": [
            "98\n"
          ]
        }
      ],
      "source": [
        "# TODO: Print the value of my_variable using the print function\n",
        "\n",
        "print(my_variable)\n"
      ]
    },
    {
      "cell_type": "code",
      "execution_count": 21,
      "metadata": {
        "id": "YRGF1iQEoQ7P",
        "outputId": "c27e3dff-6491-4519-e98a-ca0046a5648a",
        "colab": {
          "base_uri": "https://localhost:8080/"
        }
      },
      "outputs": [
        {
          "output_type": "stream",
          "name": "stdout",
          "text": [
            "\u001b[92m✔ Well done!\n"
          ]
        }
      ],
      "source": [
        "#@title Copy and paste your line of code in this form to check your solution { display-mode: \"form\", run: \"auto\" }\n",
        "\n",
        "your_code = \"print(my_variable)\" #@param {type:\"string\"}\n",
        "marking_system.check_step_4(your_code=your_code)\n"
      ]
    }
  ],
  "metadata": {
    "kernelspec": {
      "display_name": "content-projects_new",
      "language": "python",
      "name": "python3"
    },
    "language_info": {
      "name": "python",
      "version": "3.10.8"
    },
    "vscode": {
      "interpreter": {
        "hash": "4b961f8166aad6ccb4cf65d0f9c742ef9c6c23ffe83ad932438cd83ed96aebaf"
      }
    },
    "colab": {
      "provenance": []
    }
  },
  "nbformat": 4,
  "nbformat_minor": 0
}