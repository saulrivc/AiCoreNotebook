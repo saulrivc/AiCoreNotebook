{
  "cells": [
    {
      "cell_type": "markdown",
      "id": "9e4f2082",
      "metadata": {
        "id": "9e4f2082"
      },
      "source": [
        "# Boolean Basics\n",
        "\n",
        "A Boolean variable is one that can take the value of `True` or `False`. In programming, you often want to evaluate whether a condition is true or false. You can evaluate any `Python` expression, and when you do so, the result that is returned will be of the Boolean type.\n",
        "\n",
        "Note that the word Boolean is also used to describe Boolean operators such as `not`, `and` and `or`. We will cover these in a later practical.\n",
        "\n",
        "For example, run the code block below to print the result of evaluating the expression `8 > 5`"
      ]
    },
    {
      "cell_type": "code",
      "execution_count": 1,
      "id": "21c84e89",
      "metadata": {
        "id": "21c84e89",
        "outputId": "c6e71ef7-6341-4d24-8cd8-5916b849573c",
        "colab": {
          "base_uri": "https://localhost:8080/"
        }
      },
      "outputs": [
        {
          "output_type": "stream",
          "name": "stdout",
          "text": [
            "Downloading the marking system\n"
          ]
        }
      ],
      "source": [
        "#@title ### Run the following cell to download the necessary files for this practical { display-mode: \"form\" }\n",
        "#@markdown Don't worry about what's in this collapsed cell\n",
        "\n",
        "print('Downloading the marking system')\n",
        "!wget https://s3-eu-west-1.amazonaws.com/aicore-portal-public-prod-307050600709/practical_files/cc7a136a-6712-4c49-a866-ace6bacd9f4c/marking_system.py -q -O marking_system.py\n",
        "import marking_system\n",
        "import importlib\n",
        "importlib.reload(marking_system)\n",
        "import sys\n",
        "ipython = get_ipython()\n",
        "def hide_traceback(exc_tuple=None, filename=None, tb_offset=None, exception_only=False, running_compiled_code=False):\n",
        "    etype, value, tb = sys.exc_info()\n",
        "    value.__cause__ = None  # suppress chained exceptions\n",
        "    return ipython._showtraceback(etype, \"❌ \" + f\"\u001b[91m{value}\", ipython.InteractiveTB.get_exception_only(etype, \"❌ \" + f\"\u001b[91m{value}\"))\n",
        "ipython.showtraceback = hide_traceback\n"
      ]
    },
    {
      "cell_type": "code",
      "execution_count": 2,
      "id": "139b9e36",
      "metadata": {
        "id": "139b9e36",
        "outputId": "45133a69-1549-4b0d-ae69-cddcf0896dda",
        "colab": {
          "base_uri": "https://localhost:8080/"
        }
      },
      "outputs": [
        {
          "output_type": "stream",
          "name": "stdout",
          "text": [
            "True\n"
          ]
        }
      ],
      "source": [
        "print(8 > 5)\n"
      ]
    },
    {
      "cell_type": "markdown",
      "id": "0bd69e5c",
      "metadata": {
        "id": "0bd69e5c"
      },
      "source": [
        "In the cell below, come up with a python expression that will evaluate to `False`, and enclose it in a print statement. Then run the cell and check if your expression correctly evaluates to a `False` Boolean."
      ]
    },
    {
      "cell_type": "code",
      "execution_count": 3,
      "id": "950b9796",
      "metadata": {
        "id": "950b9796",
        "outputId": "0b4cd7ae-be01-48c1-de13-6e22f1687282",
        "colab": {
          "base_uri": "https://localhost:8080/"
        }
      },
      "outputs": [
        {
          "output_type": "stream",
          "name": "stdout",
          "text": [
            "False\n"
          ]
        }
      ],
      "source": [
        "# TODO Print the evaluation of a False expression.\n",
        "print(2 > 5)"
      ]
    },
    {
      "cell_type": "code",
      "execution_count": 5,
      "id": "c3f4ffcc",
      "metadata": {
        "id": "c3f4ffcc",
        "outputId": "a1e0791b-8ba0-4c5a-a307-b9b31a0bf252",
        "colab": {
          "base_uri": "https://localhost:8080/"
        }
      },
      "outputs": [
        {
          "output_type": "stream",
          "name": "stdout",
          "text": [
            "\u001b[92m✔ Well done! num_1 is lower than num_2, so the condition is False.\n"
          ]
        }
      ],
      "source": [
        "#@title #### Enter two numbers so that when comparing num_1 and num_2 (num_1 > num_2), the comparison returns False { display-mode: \"form\", run: \"auto\" }\n",
        "\n",
        "num_1 = 4 #@param {type:\"number\"}\n",
        "num_2 = 8 #@param {type:\"number\"}\n",
        "marking_system.check_step_1(num_1, num_2)\n"
      ]
    },
    {
      "cell_type": "markdown",
      "id": "39abc958",
      "metadata": {
        "id": "39abc958"
      },
      "source": [
        "In Python, we can evaluate variables, which is a bit like evaulating whether or not they exist. We do this with the `bool()` function.\n",
        "\n",
        "In the code block below, perform the following steps, and check the result at each step by pressing the 'run' button:\n",
        "- Create a variable called `x` and assign it to the value `1`.\n",
        "- Evaluate the variable using `bool()`.\n",
        "- Now change the value to `0` and evaluate it again.\n",
        "- Now change the value to `None` and evaluate it again.\n"
      ]
    },
    {
      "cell_type": "code",
      "execution_count": 6,
      "id": "74986f7f",
      "metadata": {
        "id": "74986f7f",
        "outputId": "3181dc11-05d4-4e41-aaeb-72f0290a3b4a",
        "colab": {
          "base_uri": "https://localhost:8080/"
        }
      },
      "outputs": [
        {
          "output_type": "stream",
          "name": "stdout",
          "text": [
            "True\n",
            "False\n",
            "False\n"
          ]
        }
      ],
      "source": [
        "# TODO - Create a variable `x` and assign it the value `1`.\n",
        "# TODO - Evaluate 'x'\n",
        "# TODO - Change the value of `x` to `0`\n",
        "# TODO - Evaluate `x`\n",
        "# TODO - Change the value of `x` to `None`\n",
        "# TODO - Evaluate `x`\n",
        "\n",
        "x = 1\n",
        "print(bool(x))\n",
        "x = 0\n",
        "print(bool(x))\n",
        "x = None\n",
        "print(bool(x))\n"
      ]
    },
    {
      "cell_type": "code",
      "execution_count": 7,
      "id": "07c20e16",
      "metadata": {
        "id": "07c20e16",
        "outputId": "47e2b6a0-2b2e-461d-ff82-e8390a98bbb0",
        "colab": {
          "base_uri": "https://localhost:8080/"
        }
      },
      "outputs": [
        {
          "output_type": "stream",
          "name": "stdout",
          "text": [
            "\u001b[92m✔ Well done! In Python, the absence of a value is considered as False. So, for example and empty string or a '0' are considered as False, whereas a non-empty string or a non-zero number are considered as True.\n"
          ]
        }
      ],
      "source": [
        "#@title #### Enter your answers here { display-mode: \"form\", run: \"auto\" }\n",
        "\n",
        "#@markdown What does bool(1) return?\n",
        "ans_1 = \"True\" #@param [\"\", \"True\", \"False\"]\n",
        "#@markdown What does bool(0) return?\n",
        "ans_2 = \"False\" #@param [\"\", \"True\", \"False\"]\n",
        "#@markdown What does bool(None) return?\n",
        "ans_3 = \"False\" #@param [\"\", \"True\", \"False\"]\n",
        "marking_system.check_step_2(ans_1, ans_2, ans_3)\n"
      ]
    },
    {
      "cell_type": "markdown",
      "id": "a9100918",
      "metadata": {
        "id": "a9100918"
      },
      "source": [
        "- Call `bool()` on `x` again, and assign it to a variable `my_boolean`.\n",
        "- Print  the type of `my_boolean`"
      ]
    },
    {
      "cell_type": "code",
      "execution_count": 8,
      "id": "9ea98bc7",
      "metadata": {
        "id": "9ea98bc7",
        "outputId": "04dd4f18-48b7-4fb7-bba7-c33b30def58d",
        "colab": {
          "base_uri": "https://localhost:8080/"
        }
      },
      "outputs": [
        {
          "output_type": "stream",
          "name": "stdout",
          "text": [
            "<class 'bool'>\n"
          ]
        }
      ],
      "source": [
        "# TODO - Call `bool()` on `x` again, and assign it to a variable `my_boolean`.\n",
        "# TODO - Print the type of `my_boolean`\n",
        "\n",
        "my_boolean = bool(x)\n",
        "print(type(my_boolean))\n"
      ]
    },
    {
      "cell_type": "code",
      "execution_count": 9,
      "id": "13de6a6b",
      "metadata": {
        "id": "13de6a6b",
        "outputId": "d42cfa3d-d750-477a-be1b-732b86fd5fff",
        "colab": {
          "base_uri": "https://localhost:8080/"
        }
      },
      "outputs": [
        {
          "output_type": "stream",
          "name": "stdout",
          "text": [
            "\u001b[92m✔ Well done! The type of a boolean is 'bool'.\n"
          ]
        }
      ],
      "source": [
        "#@title #### Enter your answer here { display-mode: \"form\", run: \"auto\" }\n",
        "\n",
        "assert \"my_boolean\" in globals(), \"The variable 'my_boolean' has not been created.\"\n",
        "#@markdown What does Python return when you print the type of `my_boolean`?\n",
        "ans_1 = \"bool\" #@param [\"Boolean\", \"bool\", \"boolean\"]\n",
        "marking_system.check_step_3(ans_1)\n"
      ]
    },
    {
      "cell_type": "markdown",
      "id": "52ef52e9",
      "metadata": {
        "id": "52ef52e9"
      },
      "source": [
        "To create a Boolean variable, we can assign the value `True` or `False` to it. It must always be capitalised.\n",
        "\n",
        "- Try creating a variable called `new_boolean` and assigning it the value `true`. What happens?\n",
        "- Now reassign a new value to the variable `new_boolean` that will create a valid Boolean."
      ]
    },
    {
      "cell_type": "code",
      "execution_count": 10,
      "id": "45de9b80",
      "metadata": {
        "id": "45de9b80",
        "outputId": "df6119fc-fa7c-46da-a8a7-d28d4baf1040",
        "colab": {
          "base_uri": "https://localhost:8080/"
        }
      },
      "outputs": [
        {
          "output_type": "stream",
          "name": "stdout",
          "text": [
            "True\n"
          ]
        }
      ],
      "source": [
        "# TODO - Create a variable called `new_boolean` and assign a value of `true` to it.\n",
        "# TODO - Reassign the correct value to the `new_boolean` variable\n",
        "new_boolean = True\n",
        "print(new_boolean)\n",
        "\n"
      ]
    },
    {
      "cell_type": "markdown",
      "id": "442ac0e4",
      "metadata": {
        "id": "442ac0e4"
      },
      "source": [
        "We can also evaluate strings in a similar way. Strings will evaluate to `True` unless they are empty:"
      ]
    },
    {
      "cell_type": "code",
      "execution_count": 11,
      "id": "2246c114",
      "metadata": {
        "id": "2246c114",
        "outputId": "f9f4106c-d319-43db-814d-f21e30301538",
        "colab": {
          "base_uri": "https://localhost:8080/"
        }
      },
      "outputs": [
        {
          "output_type": "stream",
          "name": "stdout",
          "text": [
            "True\n"
          ]
        }
      ],
      "source": [
        "# TODO - Assign `x` to an empty string and cast it to a Boolean\n",
        "\n",
        "x = \"string\"\n",
        "x = bool(x)\n",
        "print(x)"
      ]
    },
    {
      "cell_type": "code",
      "execution_count": 13,
      "id": "d9fbc11c",
      "metadata": {
        "id": "d9fbc11c",
        "outputId": "64757e0c-a1f7-4bc6-e1ed-2a98fde9365e",
        "colab": {
          "base_uri": "https://localhost:8080/"
        }
      },
      "outputs": [
        {
          "output_type": "stream",
          "name": "stdout",
          "text": [
            "\u001b[92m✔ Well done! An empty string is considered as False.\n"
          ]
        }
      ],
      "source": [
        "#@title #### When you cast an empty string to a Boolean, what does Python return? { display-mode: \"form\", run: \"auto\" }\n",
        "\n",
        "assert \"x\" in globals(), \"The variable 'x' has not been created.\"\n",
        "ans_1 = \"False\" #@param [\"\", \"True\", \"False\"]\n",
        "marking_system.check_step_4(ans_1)\n"
      ]
    }
  ],
  "metadata": {
    "kernelspec": {
      "display_name": "content-projects_new",
      "language": "python",
      "name": "python3"
    },
    "language_info": {
      "codemirror_mode": {
        "name": "ipython",
        "version": 3
      },
      "file_extension": ".py",
      "mimetype": "text/x-python",
      "name": "python",
      "nbconvert_exporter": "python",
      "pygments_lexer": "ipython3",
      "version": "3.10.8"
    },
    "vscode": {
      "interpreter": {
        "hash": "4b961f8166aad6ccb4cf65d0f9c742ef9c6c23ffe83ad932438cd83ed96aebaf"
      }
    },
    "colab": {
      "provenance": []
    }
  },
  "nbformat": 4,
  "nbformat_minor": 5
}