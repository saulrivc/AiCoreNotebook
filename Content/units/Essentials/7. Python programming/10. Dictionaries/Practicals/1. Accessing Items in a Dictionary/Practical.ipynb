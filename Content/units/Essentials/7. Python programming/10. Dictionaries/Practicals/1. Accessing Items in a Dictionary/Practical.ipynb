{
  "cells": [
    {
      "cell_type": "markdown",
      "id": "5d71a15b",
      "metadata": {
        "id": "5d71a15b"
      },
      "source": [
        "# Accessing Items in a Dictionary"
      ]
    },
    {
      "cell_type": "code",
      "execution_count": 1,
      "id": "9883e2eb",
      "metadata": {
        "id": "9883e2eb",
        "outputId": "4b42bdfa-ce73-4ee5-8744-84852902eb2d",
        "colab": {
          "base_uri": "https://localhost:8080/"
        }
      },
      "outputs": [
        {
          "output_type": "stream",
          "name": "stdout",
          "text": [
            "Downloading the marking system\n"
          ]
        }
      ],
      "source": [
        "#@title ### Run the following cell to download the necessary files for this practical { display-mode: \"form\" }\n",
        "#@markdown Don't worry about what's in this collapsed cell\n",
        "\n",
        "print('Downloading the marking system')\n",
        "!wget https://s3-eu-west-1.amazonaws.com/aicore-portal-public-prod-307050600709/practical_files/28095a28-576f-4683-9d9a-886d43d3f583/marking_system.py -q -O marking_system.py\n",
        "import marking_system\n",
        "import importlib\n",
        "importlib.reload(marking_system)\n",
        "import sys\n",
        "ipython = get_ipython()\n",
        "def hide_traceback(exc_tuple=None, filename=None, tb_offset=None, exception_only=False, running_compiled_code=False):\n",
        "    etype, value, tb = sys.exc_info()\n",
        "    value.__cause__ = None  # suppress chained exceptions\n",
        "    return ipython._showtraceback(etype, \"❌ \" + f\"\u001b[91m{value}\", ipython.InteractiveTB.get_exception_only(etype, \"❌ \" + f\"\u001b[91m{value}\"))\n",
        "ipython.showtraceback = hide_traceback\n"
      ]
    },
    {
      "cell_type": "markdown",
      "id": "9a0ae94f",
      "metadata": {
        "id": "9a0ae94f"
      },
      "source": [
        "### 1. Create a variable called `my_dict` and assign it the value `{\"key_1\": 1, \"key_2\": 2}`"
      ]
    },
    {
      "cell_type": "code",
      "execution_count": 2,
      "id": "52f97b75",
      "metadata": {
        "id": "52f97b75"
      },
      "outputs": [],
      "source": [
        "# TODO - Create the variable called my_dict\n",
        "\n",
        "my_dict = {\"key_1\": 1, \"key_2\": 2}\n"
      ]
    },
    {
      "cell_type": "code",
      "execution_count": 3,
      "id": "ac1afcdf",
      "metadata": {
        "id": "ac1afcdf",
        "outputId": "23431487-469a-49fa-d57f-2fa3a394328a",
        "colab": {
          "base_uri": "https://localhost:8080/"
        }
      },
      "outputs": [
        {
          "output_type": "stream",
          "name": "stdout",
          "text": [
            "\u001b[92m✔ Well done! You successfully created the dictionary. \n"
          ]
        }
      ],
      "source": [
        "#@title #### Run this cell to check your answer { display-mode: \"form\", run: \"auto\" }\n",
        "\n",
        "assert \"my_dict\" in globals(), \"The variable 'my_dict' does not exist. Please, create it.\"\n",
        "marking_system.check_step_1(my_dict)\n"
      ]
    },
    {
      "cell_type": "markdown",
      "id": "2b0f13b2",
      "metadata": {
        "id": "2b0f13b2"
      },
      "source": [
        "### 2. Assign the values corresponding to the key `\"key_1\"` and `\"key_2\"` to variables.\n",
        "\n",
        "Create 2 variables called `key_1` and `key_2` and assign them the values corresponding to the keys `\"key_1\"` and `\"key_2\"`."
      ]
    },
    {
      "cell_type": "code",
      "execution_count": 4,
      "id": "d1994fcc",
      "metadata": {
        "id": "d1994fcc"
      },
      "outputs": [],
      "source": [
        "# TODO - Access the value of the key \"key_1\" in the dictionary my_dict\n",
        "# TODO - Access the value of the key \"key_2\" in the dictionary my_dict\n",
        "\n",
        "key_1 = my_dict[\"key_1\"]\n",
        "key_2 = my_dict[\"key_2\"]\n"
      ]
    },
    {
      "cell_type": "code",
      "execution_count": 5,
      "id": "a6bfbc64",
      "metadata": {
        "id": "a6bfbc64",
        "outputId": "8bf1d32d-cba1-45a7-baaa-910df6f1a6a1",
        "colab": {
          "base_uri": "https://localhost:8080/"
        }
      },
      "outputs": [
        {
          "output_type": "stream",
          "name": "stdout",
          "text": [
            "\u001b[92m✔ Well done! You successfully accessed the values of the dictionary. \n"
          ]
        }
      ],
      "source": [
        "#@title #### Enter your solution here { display-mode: \"form\", run: \"auto\" }\n",
        "\n",
        "assert \"my_dict\" in globals(), \"The variable 'my_dict' does not exist. Please, create it.\"\n",
        "assert \"key_1\" in globals(), \"The variable 'key_1' does not exist. Please, create it.\"\n",
        "assert \"key_2\" in globals(), \"The variable 'key_2' does not exist. Please, create it.\"\n",
        "#@markdown How did you access the values of key_1?\n",
        "ans_1 = \"my_dict['key_1']\" #@param [\"my_dict('key_1')\", \"my_dict['key_1']\", \"my_dict.key_1\", \"my_dict.key_1()\", \"\"]\n",
        "#@markdown How did you access the values of key_2?\n",
        "ans_2 = \"my_dict['key_2']\" #@param [\"my_dict('key_2')\", \"my_dict['key_2']\", \"my_dict.key_2\", \"my_dict.key_2()\", \"\"]\n",
        "marking_system.check_step_2(my_dict, key_1, key_2, ans_1, ans_2)\n"
      ]
    },
    {
      "cell_type": "markdown",
      "id": "901004fa",
      "metadata": {
        "id": "901004fa"
      },
      "source": [
        "### 3. What happens if you try to access the value corresponding to the key `\"key_3\"`?"
      ]
    },
    {
      "cell_type": "code",
      "execution_count": 6,
      "id": "541ebb7e",
      "metadata": {
        "id": "541ebb7e",
        "outputId": "53c4f6ef-547a-4f42-a20e-5ad61184a058",
        "colab": {
          "base_uri": "https://localhost:8080/",
          "height": 55
        }
      },
      "outputs": [
        {
          "output_type": "error",
          "ename": "KeyError",
          "evalue": "❌ \u001b[91m'key_3'",
          "traceback": [
            "\u001b[0;31mKeyError\u001b[0m\u001b[0;31m:\u001b[0m ❌ \u001b[91m'key_3'\n"
          ]
        }
      ],
      "source": [
        "# TODO - Try to access a key that does not exist in the dictionary\n",
        "\n",
        "my_dict[\"key_3\"]\n"
      ]
    },
    {
      "cell_type": "code",
      "execution_count": 7,
      "id": "4260947c",
      "metadata": {
        "id": "4260947c",
        "outputId": "31c0cfdd-1de9-458a-cfee-389418ee71fa",
        "colab": {
          "base_uri": "https://localhost:8080/"
        }
      },
      "outputs": [
        {
          "output_type": "stream",
          "name": "stdout",
          "text": [
            "\u001b[92m✔ Well done! A KeyError is raised when you try to access a key that is not in the dictionary.\n"
          ]
        }
      ],
      "source": [
        "#@title #### Enter your solution here { display-mode: \"form\", run: \"auto\" }\n",
        "\n",
        "assert \"my_dict\" in globals(), \"The variable 'my_dict' does not exist. Please, create it.\"\n",
        "#@markdown What happens when you try to access the value of \"key_3\"?\n",
        "ans = \"KeyError\" #@param [\"KeyError\", \"None\", \"Nothing happens\", \"The program crashes\", \"\"]\n",
        "marking_system.check_step_3(my_dict, ans)\n"
      ]
    },
    {
      "cell_type": "markdown",
      "id": "661b3d7b",
      "metadata": {
        "id": "661b3d7b"
      },
      "source": [
        "### 4. Get all the keys of `my_dict` and assign them to a variable called `my_keys`.\n",
        "\n",
        "_Hint: Use the `keys()` method_"
      ]
    },
    {
      "cell_type": "code",
      "execution_count": 8,
      "id": "b47c2540",
      "metadata": {
        "id": "b47c2540"
      },
      "outputs": [],
      "source": [
        "# TODO - Get the keys of the dictionary my_dict and store them in the variable my_keys\n",
        "\n",
        "my_keys = my_dict.keys()\n"
      ]
    },
    {
      "cell_type": "code",
      "execution_count": 9,
      "id": "7e0b1d92",
      "metadata": {
        "id": "7e0b1d92"
      },
      "outputs": [],
      "source": [
        "expected_keys = my_dict.keys()\n",
        "\n",
        "assert my_keys == expected_keys, \"The variable 'my_keys' does not contain the keys of the dictionary 'my_dict'.\"\n"
      ]
    },
    {
      "cell_type": "code",
      "execution_count": 10,
      "id": "5a0691b4",
      "metadata": {
        "id": "5a0691b4",
        "outputId": "b90d9bc7-ef3b-472b-b570-99fb582d2a1f",
        "colab": {
          "base_uri": "https://localhost:8080/"
        }
      },
      "outputs": [
        {
          "output_type": "stream",
          "name": "stdout",
          "text": [
            "\u001b[92m✔ Well done! You successfully created a dict_keys object. This object contains the keys of the dictionary. \n"
          ]
        }
      ],
      "source": [
        "#@title #### Run this cell to check your answer { display-mode: \"form\", run: \"auto\" }\n",
        "\n",
        "assert \"my_dict\" in globals(), \"The variable 'my_dict' does not exist. Please, create it.\"\n",
        "assert \"my_keys\" in globals(), \"The variable 'my_keys' does not exist. Please, create it.\"\n",
        "marking_system.check_step_4(my_dict, my_keys)\n"
      ]
    },
    {
      "cell_type": "markdown",
      "id": "2db853a4",
      "metadata": {
        "id": "2db853a4"
      },
      "source": [
        "### 5. Get all the values of `my_dict` and assign them to a variable called `my_values`.\n",
        "\n",
        "_Hint: Use the `values()` method_"
      ]
    },
    {
      "cell_type": "code",
      "execution_count": 14,
      "id": "7446b3a2",
      "metadata": {
        "id": "7446b3a2"
      },
      "outputs": [],
      "source": [
        "# TODO - Get the values of the dictionary my_dict and store them in the variable my_values\n",
        "\n",
        "my_values = my_dict.values()"
      ]
    },
    {
      "cell_type": "code",
      "execution_count": 15,
      "id": "763954e5",
      "metadata": {
        "id": "763954e5",
        "outputId": "6212e081-12b7-4520-d358-8f73ba71c216",
        "colab": {
          "base_uri": "https://localhost:8080/"
        }
      },
      "outputs": [
        {
          "output_type": "stream",
          "name": "stdout",
          "text": [
            "\u001b[92m✔ Well done! You successfully created a dict_values object. This object contains the values of the dictionary. \n"
          ]
        }
      ],
      "source": [
        "#@title #### Run this cell to check your answer { display-mode: \"form\", run: \"auto\" }\n",
        "\n",
        "assert \"my_dict\" in globals(), \"The variable 'my_dict' does not exist. Please, create it.\"\n",
        "assert \"my_values\" in globals(), \"The variable 'my_values' does not exist. Please, create it.\"\n",
        "marking_system.check_step_5(my_dict, my_values)\n"
      ]
    },
    {
      "cell_type": "markdown",
      "id": "f00f09b3",
      "metadata": {
        "id": "f00f09b3"
      },
      "source": [
        "### 6. Print the items of `my_dict` and assign it to a variable called `my_items`.\n",
        "\n",
        "_Hint: Use the `items()` method_\n",
        "\n",
        "Print `my_items` and see what you get."
      ]
    },
    {
      "cell_type": "code",
      "execution_count": 16,
      "id": "71a0351e",
      "metadata": {
        "id": "71a0351e",
        "outputId": "df7a7372-e3f1-4ef1-8fde-555f93615cad",
        "colab": {
          "base_uri": "https://localhost:8080/"
        }
      },
      "outputs": [
        {
          "output_type": "stream",
          "name": "stdout",
          "text": [
            "dict_items([('key_1', 1), ('key_2', 2)])\n"
          ]
        }
      ],
      "source": [
        "# TODO - Get the items of the dictionary my_dict and store them in the variable my_items\n",
        "# TODO - Print the variable my_items\n",
        "\n",
        "my_items = my_dict.items()\n",
        "print(my_items)"
      ]
    },
    {
      "cell_type": "code",
      "execution_count": 20,
      "id": "2fbdac0c",
      "metadata": {
        "id": "2fbdac0c",
        "outputId": "ff2552b6-2285-4bf1-f63c-19b57214fe44",
        "colab": {
          "base_uri": "https://localhost:8080/"
        }
      },
      "outputs": [
        {
          "output_type": "stream",
          "name": "stdout",
          "text": [
            "\u001b[92m✔ Well done! You successfully created a dict_items object. Each item in this object is like a tuple where the first element is the key and the second element is the value. \n"
          ]
        }
      ],
      "source": [
        "#@title #### Run this cell to check your answer { display-mode: \"form\", run: \"auto\" }\n",
        "\n",
        "assert \"my_dict\" in globals(), \"The variable 'my_dict' does not exist. Please, create it.\"\n",
        "assert \"my_items\" in globals(), \"The variable 'my_items' does not exist. Please, create it.\"\n",
        "#@markdown The type of my_items is a dict_items. You can convert it to a list by using the list() function. Inside the list, what is the type of each item?\n",
        "ans = \"tuple\" #@param [\"list\", \"tuple\", \"dict\", \"int\", \"\"]\n",
        "marking_system.check_step_6(my_dict, my_items, ans)\n"
      ]
    }
  ],
  "metadata": {
    "kernelspec": {
      "display_name": "content-projects_new",
      "language": "python",
      "name": "python3"
    },
    "language_info": {
      "codemirror_mode": {
        "name": "ipython",
        "version": 3
      },
      "file_extension": ".py",
      "mimetype": "text/x-python",
      "name": "python",
      "nbconvert_exporter": "python",
      "pygments_lexer": "ipython3",
      "version": "3.10.8"
    },
    "vscode": {
      "interpreter": {
        "hash": "4b961f8166aad6ccb4cf65d0f9c742ef9c6c23ffe83ad932438cd83ed96aebaf"
      }
    },
    "colab": {
      "provenance": []
    }
  },
  "nbformat": 4,
  "nbformat_minor": 5
}