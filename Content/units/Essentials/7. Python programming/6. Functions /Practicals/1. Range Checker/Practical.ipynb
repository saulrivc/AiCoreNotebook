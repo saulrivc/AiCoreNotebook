{
  "cells": [
    {
      "cell_type": "markdown",
      "id": "1e87f79b",
      "metadata": {
        "id": "1e87f79b"
      },
      "source": [
        "# Range Checker"
      ]
    },
    {
      "cell_type": "code",
      "execution_count": 2,
      "id": "1a9c3afe",
      "metadata": {
        "id": "1a9c3afe",
        "outputId": "16428faf-cf0f-413d-fba1-4a9bc40bfa5b",
        "colab": {
          "base_uri": "https://localhost:8080/"
        }
      },
      "outputs": [
        {
          "output_type": "stream",
          "name": "stdout",
          "text": [
            "Downloading the marking system\n"
          ]
        }
      ],
      "source": [
        "#@title ### Run the following cell to download the necessary files for this practical { display-mode: \"form\" }\n",
        "#@markdown Don't worry about what's in this collapsed cell\n",
        "\n",
        "print('Downloading the marking system')\n",
        "!wget https://s3-eu-west-1.amazonaws.com/aicore-portal-public-prod-307050600709/practical_files/a893b38a-c160-4c47-b1fc-0a4602642639/marking_system.py -q -O marking_system.py\n",
        "import marking_system\n",
        "import importlib\n",
        "importlib.reload(marking_system)\n",
        "import sys\n",
        "ipython = get_ipython()\n",
        "def hide_traceback(exc_tuple=None, filename=None, tb_offset=None, exception_only=False, running_compiled_code=False):\n",
        "    etype, value, tb = sys.exc_info()\n",
        "    value.__cause__ = None  # suppress chained exceptions\n",
        "    return ipython._showtraceback(etype, \"❌ \" + f\"\u001b[91m{value}\", ipython.InteractiveTB.get_exception_only(etype, \"❌ \" + f\"\u001b[91m{value}\"))\n",
        "ipython.showtraceback = hide_traceback\n"
      ]
    },
    {
      "cell_type": "markdown",
      "id": "2aae8fb6",
      "metadata": {
        "id": "2aae8fb6"
      },
      "source": [
        "### 1. Write a function called `in_range` which takes in three arguments: `lower_bound`, `upper_bound`, and `number`\n",
        "\n",
        "- If `number` is between `lower_bound` and `upper_bound`, print `{number} is between {lower_bound} and {upper_bound}`\n",
        "- If it isn't, print `{number} is NOT between {lower_bound} and {upper_bound}`"
      ]
    },
    {
      "cell_type": "code",
      "execution_count": 3,
      "id": "b6f3605f",
      "metadata": {
        "id": "b6f3605f",
        "outputId": "f8705cd4-c170-4cfd-852c-cddcb7d666f1",
        "colab": {
          "base_uri": "https://localhost:8080/"
        }
      },
      "outputs": [
        {
          "output_type": "stream",
          "name": "stdout",
          "text": [
            "5 is between 1 and 10\n",
            "11 is NOT between 1 and 10\n",
            "0 is NOT between 1 and 10\n"
          ]
        }
      ],
      "source": [
        "# TODO - Define a function called in_range that takes three parameters: lower_bound, upper_bound and number\n",
        "def in_range(lower_bound, upper_bound, number):\n",
        "    # TODO - Using if statements, check if the number is between the lower and upper bounds\n",
        "    if lower_bound <= number <= upper_bound:\n",
        "        print(f\"{number} is between {lower_bound} and {upper_bound}\")\n",
        "    else:\n",
        "        print(f\"{number} is NOT between {lower_bound} and {upper_bound}\")\n",
        "        # TODO - If the number is between the lower and upper bounds, print \"{number} is between {lower_bound} and {upper_bound}\"4\n",
        "        if lower_bound > number > upper_bound:\n",
        "            print(f\"{number} is NOT between {lower_bound} and {upper_bound}\")\n",
        "# TODO - If the number is not between the lower and upper bounds, print \"{number} is NOT between {lower_bound} and {upper_bound}\"#\n",
        "if __name__ == \"__main__\":\n",
        "    in_range(1, 10, 5)\n",
        "    in_range(1, 10, 11)\n",
        "    in_range(1, 10, 0)\n"
      ]
    },
    {
      "cell_type": "code",
      "execution_count": 4,
      "id": "974c19aa",
      "metadata": {
        "id": "974c19aa",
        "outputId": "270003f8-fc37-49e4-a387-39b402eb607e",
        "colab": {
          "base_uri": "https://localhost:8080/"
        }
      },
      "outputs": [
        {
          "output_type": "stream",
          "name": "stdout",
          "text": [
            "\u001b[92m✔ Well done! You successfully created a function that checks whether a number is in a given range.\n"
          ]
        }
      ],
      "source": [
        "#@title Run this cell to check your code { display-mode: \"form\" }\n",
        "\n",
        "assert \"in_range\" in globals(), \"You haven't defined a function called 'in_range'. Please, try again.\"\n",
        "assert callable(in_range), \"'in_range' should be a function. Please, try again.\"\n",
        "assert in_range.__code__.co_argcount == 3, \"'in_range' should take 3 parameters: lower_bound, upper_bound and number. Please, try again.\"\n",
        "\n",
        "marking_system.check_step_1(in_range)\n"
      ]
    },
    {
      "cell_type": "markdown",
      "id": "77cd8c01",
      "metadata": {
        "id": "77cd8c01"
      },
      "source": [
        "#### 2. Call your function to test it.\n",
        "\n",
        "Use the following code to test your function:"
      ]
    },
    {
      "cell_type": "code",
      "execution_count": 5,
      "id": "aef182c2",
      "metadata": {
        "id": "aef182c2",
        "outputId": "7900c032-9694-48d8-c297-5dbb6f69ea4e",
        "colab": {
          "base_uri": "https://localhost:8080/"
        }
      },
      "outputs": [
        {
          "output_type": "stream",
          "name": "stdout",
          "text": [
            "5 is between 1 and 10\n",
            "11 is NOT between 1 and 10\n",
            "0 is NOT between 1 and 10\n"
          ]
        }
      ],
      "source": [
        "in_range(1, 10, 5)\n",
        "in_range(1, 10, 11)\n",
        "in_range(1, 10, 0)\n"
      ]
    },
    {
      "cell_type": "markdown",
      "id": "7c750c2b",
      "metadata": {
        "id": "7c750c2b"
      },
      "source": [
        "The output should be:\n",
        "```\n",
        "5 is between 1 and 10.\n",
        "11 is NOT between 1 and 10.\n",
        "0 is NOT between 1 and 10.\n",
        "```"
      ]
    }
  ],
  "metadata": {
    "kernelspec": {
      "display_name": "content-projects",
      "language": "python",
      "name": "python3"
    },
    "language_info": {
      "codemirror_mode": {
        "name": "ipython",
        "version": 3
      },
      "file_extension": ".py",
      "mimetype": "text/x-python",
      "name": "python",
      "nbconvert_exporter": "python",
      "pygments_lexer": "ipython3",
      "version": "3.10.8"
    },
    "vscode": {
      "interpreter": {
        "hash": "ade8e5586172805df9bc062837b397cc969901b5c9c96b7ef37746d262623997"
      }
    },
    "colab": {
      "provenance": []
    }
  },
  "nbformat": 4,
  "nbformat_minor": 5
}