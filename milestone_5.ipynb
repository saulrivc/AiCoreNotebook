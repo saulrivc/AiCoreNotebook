{
  "cells": [
    {
      "cell_type": "markdown",
      "metadata": {
        "id": "i_xLFYD8a_h3"
      },
      "source": [
        "# Movie Recommendation - Milestone 5\n"
      ]
    },
    {
      "cell_type": "markdown",
      "metadata": {
        "id": "O0RSH9n0kGGS"
      },
      "source": [
        "<details>\n",
        "  <summary>Click in any of these links to compare your solution with ours up to this point</summary>\n",
        "  <p>\n",
        "    <a href=\"https://colab.research.google.com/github/AI-Core/movie-recommendation-solutions/blob/main/solution_m1.ipynb\" target=\"_parent\">Solution for milestone 1</a>\n",
        "  </p>\n",
        "  <p>\n",
        "    <a href=\"https://colab.research.google.com/github/AI-Core/movie-recommendation-solutions/blob/main/solution_m2.ipynb\" target=\"_parent\">Solution for milestone 2</a>\n",
        "  </p>\n",
        "    <p>\n",
        "        <a href=\"https://colab.research.google.com/github/AI-Core/movie-recommendation-solutions/blob/main/solution_m3.ipynb\" target=\"_parent\">Solution for milestone 3</a>\n",
        "    </p>\n",
        "    <p>\n",
        "        <a href=\"https://colab.research.google.com/github/AI-Core/movie-recommendation-solutions/blob/main/solution_m4.ipynb\" target=\"_parent\">Solution for milestone 4</a>\n",
        "    </p>\n",
        "</details>"
      ]
    },
    {
      "cell_type": "code",
      "execution_count": 1,
      "metadata": {
        "id": "BYEHhfbxkGGS",
        "outputId": "1e66b222-48ef-4a8f-fcad-b1b6c4a94654",
        "colab": {
          "base_uri": "https://localhost:8080/"
        }
      },
      "outputs": [
        {
          "output_type": "stream",
          "name": "stdout",
          "text": [
            "  Preparing metadata (setup.py) ... \u001b[?25l\u001b[?25hdone\n",
            "  Preparing metadata (setup.py) ... \u001b[?25l\u001b[?25hdone\n",
            "  Building wheel for movie-rec-marking-aicore (setup.py) ... \u001b[?25l\u001b[?25hdone\n",
            "  Building wheel for timeout-decorator (setup.py) ... \u001b[?25l\u001b[?25hdone\n"
          ]
        }
      ],
      "source": [
        "#@title # Run the following cell to add the `movies` variable to your workspace. { display-mode: \"form\" }\n",
        "#@markdown Don’t worry about what’s in this collapsed cell, you’re not expected to understand the code inside\n",
        "\n",
        "!pip install movie-rec-marking-aicore --upgrade --quiet\n",
        "!wget https://aicore-files.s3.amazonaws.com/Movie-Recommendation/movies.json --quiet\n",
        "from movie_rec_marking import test_milestone_5\n",
        "import json\n",
        "with open('movies.json', 'r') as f:\n",
        "    movies = json.load(f)"
      ]
    },
    {
      "cell_type": "code",
      "execution_count": 2,
      "metadata": {
        "id": "bSIROAdOkGGT"
      },
      "outputs": [],
      "source": [
        "# Run this cell to define the `get_unique_genres` and `get_user_genre_choice` functions.\n",
        "def get_unique_genres():\n",
        "    genres = []\n",
        "    for movie in movies:\n",
        "        genres.append(movie[\"genre\"])\n",
        "    genres = set(genres)\n",
        "    return genres\n",
        "\n",
        "def get_user_genre_choice():\n",
        "    print(\"Select a genre from the following set:\")\n",
        "    print(get_unique_genres())\n",
        "    genre_choice = input(\"Type a genre then hit enter...\\n\")\n",
        "    return genre_choice"
      ]
    },
    {
      "cell_type": "markdown",
      "metadata": {
        "id": "MYQw48Lqa3Q4"
      },
      "source": [
        "# Task 1\n",
        "### Validate the user's genre choice\n",
        "\n",
        "Redefine the `get_user_genre_choice` function to validate the input and make sure that it's actually one of the genres from the dataset.\n",
        "\n",
        "If the value is not valid, then raise an error."
      ]
    },
    {
      "cell_type": "code",
      "execution_count": 3,
      "metadata": {
        "id": "1UpT9BAym0iW"
      },
      "outputs": [],
      "source": [
        "## Write your code here\n",
        "\n",
        "def get_user_genre_choice():\n",
        "    print(\"Select a genre from the following set:\")\n",
        "    print(get_unique_genres())\n",
        "    if input(\"Type a genre then hit enter...\\n\") in get_unique_genres():\n",
        "        return input(\"Type a genre then hit enter...\\n\")\n",
        "\n",
        "    else:\n",
        "        raise ValueError(\"This is not a valid genre\")\n",
        "    return input(\"Type a genre then hit enter...\\n\")"
      ]
    },
    {
      "cell_type": "code",
      "execution_count": 4,
      "metadata": {
        "id": "Wb1s-eypkGGU",
        "outputId": "ed09f140-0e9a-4b59-9022-176be6a22984",
        "colab": {
          "base_uri": "https://localhost:8080/"
        }
      },
      "outputs": [
        {
          "output_type": "stream",
          "name": "stdout",
          "text": [
            "Great! The \"get_user_genre_choice\" function raises an error when you use a genre that is not in the dataset\n",
            "You can continue to the next task\n"
          ]
        }
      ],
      "source": [
        "#@title Run this cell to check your solution { display-mode: \"form\", run: \"auto\" }\n",
        "\n",
        "assert 'get_user_genre_choice' in globals(), \"You need to define a function called get_user_genre_choice\"\n",
        "task_1 = test_milestone_5.check_first_get_user_genre_choice(get_user_genre_choice)"
      ]
    },
    {
      "cell_type": "markdown",
      "metadata": {
        "id": "8yBeeY0tkGGU"
      },
      "source": [
        "# Task 2\n",
        "\n",
        "### Raise a specific type of error\n",
        "\n",
        "Specifically, raise a `ValueError` with a useful error message \"This is not a valid genre\"."
      ]
    },
    {
      "cell_type": "code",
      "execution_count": 5,
      "metadata": {
        "id": "tKfGaf9xkGGU"
      },
      "outputs": [],
      "source": [
        "## Write your code here\n",
        "\n",
        "def get_user_genre_choice():\n",
        "    print(\"Select a genre from the following set:\")\n",
        "    print(get_unique_genres())\n",
        "    if input(\"Type a genre then hit enter...\\n\") in get_unique_genres():\n",
        "        return input(\"Type a genre then hit enter...\\n\")\n",
        "\n",
        "    else:\n",
        "        raise ValueError(\"This is not a valid genre\")"
      ]
    },
    {
      "cell_type": "code",
      "execution_count": 6,
      "metadata": {
        "id": "dckONGiakGGU",
        "outputId": "6689c220-448a-4a65-dd8c-a844a3d0572f",
        "colab": {
          "base_uri": "https://localhost:8080/"
        }
      },
      "outputs": [
        {
          "output_type": "stream",
          "name": "stdout",
          "text": [
            "Great! The \"get_user_genre_choice\" function raises a ValueError exception when you use a genre that is not in the dataset\n",
            "You can continue to the next task\n"
          ]
        }
      ],
      "source": [
        "#@title Run this cell to check your solution { display-mode: \"form\", run: \"auto\" }\n",
        "\n",
        "assert 'get_user_genre_choice' in globals(), \"You need to define a function called get_user_genre_choice\"\n",
        "task_2 = test_milestone_5.check_second_get_user_genre_choice(get_user_genre_choice, task_1)"
      ]
    },
    {
      "cell_type": "markdown",
      "metadata": {
        "id": "G-aYTcjekGGU"
      },
      "source": [
        "# Task 3\n",
        "\n",
        "### Handle the error\n",
        "\n",
        "If the genre selected is not valid, and your code successfully raises an error when that is the case, handle the error so that instead of your code failing and stopping, it asks the user to try again.\n",
        "\n",
        "\n",
        "HINT: You may want to use an infinite `while` loop, and break out of it only if the error is not raised.\n",
        "\n",
        "\n",
        "The code should handle only the specific type of error that is raised if the genre is not valid."
      ]
    },
    {
      "cell_type": "code",
      "execution_count": 9,
      "metadata": {
        "id": "pZfGx38nkGGV"
      },
      "outputs": [],
      "source": [
        "## Write your code here\n",
        "\n",
        "def get_user_genre_choice():\n",
        "    print(\"Select a genre from the following set:\")\n",
        "    print(get_unique_genres())\n",
        "    while True:\n",
        "        try:\n",
        "            genre_choice = input(\"Type a genre then hit enter...\\n\")\n",
        "            if genre_choice in get_unique_genres():\n",
        "                return genre_choice\n",
        "        except ValueError:\n",
        "            print(\"This is not a valid genre\")"
      ]
    },
    {
      "cell_type": "code",
      "execution_count": 10,
      "metadata": {
        "id": "lMQn-baskGGV",
        "outputId": "caaa885f-59e2-481a-da4b-3a3a25262fb6",
        "colab": {
          "base_uri": "https://localhost:8080/"
        }
      },
      "outputs": [
        {
          "output_type": "stream",
          "name": "stdout",
          "text": [
            "Great! The \"get_user_genre_choice\" function works correctly\n",
            "Congratulations! You completed the project!\n"
          ]
        }
      ],
      "source": [
        "#@title Run this cell to check your solution { display-mode: \"form\", run: \"auto\" }\n",
        "\n",
        "assert 'get_user_genre_choice' in globals(), \"You need to define a function called get_user_genre_choice\"\n",
        "task_3 = test_milestone_5.check_third_get_user_genre_choice(get_user_genre_choice, task_2)"
      ]
    }
  ],
  "metadata": {
    "colab": {
      "provenance": []
    },
    "kernelspec": {
      "display_name": "Python 3.9.5 ('base')",
      "language": "python",
      "name": "python3"
    },
    "language_info": {
      "codemirror_mode": {
        "name": "ipython",
        "version": 3
      },
      "file_extension": ".py",
      "mimetype": "text/x-python",
      "name": "python",
      "nbconvert_exporter": "python",
      "pygments_lexer": "ipython3",
      "version": "3.9.5 (default, Jun  4 2021, 12:28:51) \n[GCC 7.5.0]"
    },
    "orig_nbformat": 4,
    "vscode": {
      "interpreter": {
        "hash": "ce99af5845ff7f417c6fe57e3883abe41597db90e3f493c4f9da5159bbc46102"
      }
    }
  },
  "nbformat": 4,
  "nbformat_minor": 0
}